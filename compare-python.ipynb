{
 "cells": [
  {
   "cell_type": "code",
   "execution_count": 2,
   "metadata": {},
   "outputs": [],
   "source": [
    "import fastjet as fj\n",
    "import time\n",
    "import matplotlib.pyplot as plt\n",
    "import numpy as np\n",
    "import pyhepmc"
   ]
  },
  {
   "cell_type": "code",
   "execution_count": 32,
   "metadata": {},
   "outputs": [],
   "source": [
    "def readFile(number):\n",
    "    datafile = open(f\"./total/{number}.txt\",\"r\")\n",
    "    lines = datafile.readlines()\n",
    "    datafile.close()\n",
    "\n",
    "    return lines\n",
    "\n",
    "def loadParticles(lines):\n",
    "    event = []\n",
    "\n",
    "    for line in lines:\n",
    "        arr = line.split(\"\\t\")\n",
    "        particle = fj.PseudoJet(float(arr[0]), float(arr[1]), float(arr[2]), float(arr[3]))\n",
    "\n",
    "        event.append(particle)\n",
    "    \n",
    "    return event\n",
    "\n",
    "def makeJets(data, R):\n",
    "    jet_def = fj.JetDefinition(fj.cambridge_aachen_algorithm, R)\n",
    "    jet_cluster = fj.ClusterSequence(data, jet_def)\n",
    "    # jets = jet_cluster.inclusive_jets()\n",
    "\n",
    "    # return jets\n",
    "    return jet_cluster"
   ]
  },
  {
   "cell_type": "code",
   "execution_count": 33,
   "metadata": {},
   "outputs": [
    {
     "name": "stdout",
     "output_type": "stream",
     "text": [
      "0.0007138252258300781\n"
     ]
    }
   ],
   "source": [
    "ptmin = 2.0\n",
    "\n",
    "file = readFile(0)\n",
    "particle_data = loadParticles(file)\n",
    "start = time.time()\n",
    "cluster = makeJets(particle_data, 1.0)\n",
    "end = time.time() - start\n",
    "jets = cluster.inclusive_jets(ptmin)\n",
    "\n",
    "print(end)"
   ]
  },
  {
   "cell_type": "markdown",
   "metadata": {},
   "source": [
    "### Using Mass Drop Tagger"
   ]
  },
  {
   "cell_type": "code",
   "execution_count": 34,
   "metadata": {},
   "outputs": [
    {
     "name": "stdout",
     "output_type": "stream",
     "text": [
      "11\n",
      "1.52587890625e-05\n",
      "0 \tOriginal jet: pt=4.25496424823028, eta=0.9892011098399707, phi=2.4143391152495934, mass=2.522418674135956\n",
      "0 \tTagged jet: pt=3.5649614011641453, eta=1.0286210400408577, phi=2.5256138204970515, mass=1.385375128391125\n",
      "\n",
      "1.0013580322265625e-05\n",
      "1 \tOriginal jet: pt=2.2464885078239303, eta=1.7455644977280314, phi=3.6063896578231613, mass=1.8375069953643175\n",
      "1 \tTagged jet: pt=2.2464885078239303, eta=1.7455644977280314, phi=3.6063896578231613, mass=1.8375069953643175\n",
      "\n",
      "5.7220458984375e-06\n",
      "2 \tOriginal jet: pt=2.48768233091831, eta=-0.8177598891625226, phi=0.1329137506706785, mass=1.3796583711669916\n",
      "2 \tTagged jet: pt=2.48768233091831, eta=-0.8177598891625226, phi=0.1329137506706785, mass=1.3796583711669916\n",
      "\n",
      "6.198883056640625e-06\n",
      "3 \tOriginal jet: pt=3.3439531295491505, eta=-1.9436688109037505, phi=1.5352538003514755, mass=3.300867237447968\n",
      "3 \tTagged jet: pt=3.3439531295491505, eta=-1.9436688109037505, phi=1.5352538003514755, mass=3.300867237447968\n",
      "\n",
      "5.0067901611328125e-06\n",
      "4 \tOriginal jet: pt=2.1797449587738402, eta=-8.071068147033856, phi=1.2704778599794635, mass=2.3387612791465076\n",
      "4 \tTagged jet: pt=2.1797449587738402, eta=-8.071068147033856, phi=1.2704778599794635, mass=2.3387612791465076\n",
      "\n",
      "5.245208740234375e-06\n",
      "5 \tOriginal jet: pt=23.644026291439253, eta=-2.2813691010189885, phi=5.2711788682564675, mass=8.51012889832201\n",
      "5 \tTagged jet: pt=15.037500552202697, eta=-2.14060375208483, phi=5.2873519116551115, mass=2.7782711080217615\n",
      "\n",
      "4.76837158203125e-06\n",
      "6 \tOriginal jet: pt=12.586904469090056, eta=1.7809156033724234, phi=6.129839442886363, mass=8.491030475846856\n",
      "6 \tTagged jet: pt=12.586904469090056, eta=1.7809156033724234, phi=6.129839442886363, mass=8.491030475846856\n",
      "\n",
      "6.198883056640625e-06\n",
      "7 \tOriginal jet: pt=4.373967011936128, eta=-0.24526313838440164, phi=1.46563570138571, mass=2.5007790529584835\n",
      "7 \tTagged jet: pt=4.373967011936128, eta=-0.24526313838440164, phi=1.46563570138571, mass=2.5007790529584835\n",
      "\n",
      "6.9141387939453125e-06\n",
      "8 \tOriginal jet: pt=2.0086398616206367, eta=-1.5974788148568573, phi=5.05065699790494, mass=2.2159201558106165\n",
      "8 \tTagged jet: pt=0.0, eta=100000.0, phi=0.0, mass=0.0\n",
      "\n",
      "7.152557373046875e-06\n",
      "9 \tOriginal jet: pt=2.125720970693987, eta=2.418204608888062, phi=2.671615803688678, mass=1.8245962501869402\n",
      "9 \tTagged jet: pt=0.0, eta=100000.0, phi=0.0, mass=0.0\n",
      "\n",
      "1.2874603271484375e-05\n",
      "10 \tOriginal jet: pt=26.130848232425834, eta=3.4064226211418767, phi=2.6749116992524002, mass=8.17003025699191\n",
      "10 \tTagged jet: pt=0.0, eta=100000.0, phi=0.0, mass=0.0\n",
      "\n",
      "No jets found\n",
      "------------------------------------\n",
      "11\n",
      "3\n"
     ]
    }
   ],
   "source": [
    "mu = 0.67\n",
    "ycut = 0.09\n",
    "mass_drop_tagger = fj.MassDropTagger(mu, ycut)\n",
    "\n",
    "print(len(jets))\n",
    "n = 0\n",
    "\n",
    "count = 0\n",
    "\n",
    "tagged = []\n",
    "\n",
    "for n in range(len(jets)):\n",
    "    start = time.time()\n",
    "\n",
    "    tagged_jet = mass_drop_tagger.result(jets[n])\n",
    "    \n",
    "    print(time.time() - start)\n",
    "    print(n, f\"\\tOriginal jet: pt={jets[n].pt()}, eta={jets[n].eta()}, phi={jets[n].phi()}, mass={jets[n].m()}\")\n",
    "    print(n, f\"\\tTagged jet: pt={tagged_jet.pt()}, eta={tagged_jet.eta()}, phi={tagged_jet.phi()}, mass={tagged_jet.m()}\\n\")\n",
    "    \n",
    "    tagged.append(tagged_jet)\n",
    "    \n",
    "final_jets = fj.sorted_by_pt([mass_drop_tagger.result(jet) for jet in jets])\n",
    "\n",
    "print(\"------------------------------------\")\n",
    "print(len(final_jets))\n",
    "\n",
    "with open(\"results/massdrop-python.csv\", \"w\") as FILE:\n",
    "    FILE.write(\"pt,eta,m\\n\")\n",
    "    for jet in final_jets:\n",
    "        if jet.pt() > 0:\n",
    "            print(jet.pt(), jet.eta(), jet.m(), sep=\"\\t\")\n",
    "            FILE.write(f\"{jet.pt()},{jet.eta()},{jet.m()}\\n\")\n",
    "\n",
    "print(count)"
   ]
  },
  {
   "cell_type": "markdown",
   "metadata": {},
   "source": [
    "### Using Filter"
   ]
  },
  {
   "cell_type": "code",
   "execution_count": 9,
   "metadata": {},
   "outputs": [
    {
     "name": "stdout",
     "output_type": "stream",
     "text": [
      "------------------------------------\n",
      "11\n",
      "25.425973541479426\t3.3899727842078757\t7.210829212029252\n",
      "19.38426838643532\t-2.2264724312433675\t4.940888635018613\n",
      "12.019482608698311\t1.7377047604888647\t6.671551849243314\n",
      "4.118477623409108\t0.981058208612941\t2.3690413802846306\n",
      "4.070582559375079\t-0.22492429567807123\t2.3285876831086623\n",
      "2.487682330918309\t-0.8177598891625233\t1.3796583711669919\n",
      "2.1864737162176358\t-1.8293104858994278\t2.1299068355434225\n",
      "2.125720970693987\t2.418204608888062\t1.8245962501869402\n",
      "1.986731603795744\t-8.097398676211913\t2.234241203271326\n",
      "1.7682801418035814\t-1.5580514503303071\t1.742592726752077\n",
      "1.6337885215517716\t1.786135408697485\t0.8683760196849447\n"
     ]
    }
   ],
   "source": [
    "fil = fj.Filter(fj.JetDefinition(fj.cambridge_algorithm, 0.3), fj.SelectorNHardest(3))\n",
    "final_jets = fj.sorted_by_pt([fil(jet) for jet in jets])\n",
    "\n",
    "print(\"------------------------------------\")\n",
    "print(len(final_jets))\n",
    "\n",
    "with open(\"results/filter-python.csv\", \"w\") as FILE:\n",
    "    FILE.write(\"pt,eta,m\\n\")\n",
    "    for jet in final_jets:\n",
    "        print(jet.pt(), jet.eta(), jet.m(), sep=\"\\t\")\n",
    "        FILE.write(f\"{jet.pt()},{jet.eta()},{jet.m()}\\n\")\n"
   ]
  },
  {
   "cell_type": "markdown",
   "metadata": {},
   "source": [
    "### Using Trimming"
   ]
  },
  {
   "cell_type": "code",
   "execution_count": 16,
   "metadata": {},
   "outputs": [
    {
     "name": "stdout",
     "output_type": "stream",
     "text": [
      "------------------------------------\n",
      "11\n",
      "24.0024657948891\t3.39693136347249\t5.931458819456554\n",
      "11.39058332934317\t-2.1796071349581148\t1.3116812665798905\n",
      "8.958194272123187\t1.4009830801346865\t2.466264379925911\n",
      "3.5649614011641453\t1.0286210400408577\t1.385375128391125\n",
      "2.1376462300800347\t-0.7410704326313319\t1.172218172070111\n",
      "2.125720970693987\t2.418204608888062\t1.8245962501869402\n",
      "1.8254297278011031\t-0.03236046511747068\t0.9395700000000008\n",
      "1.6925532105156107\t-8.110365603402714\t2.0683933326506128\n",
      "1.539181615169957\t-1.5893036495193658\t0.935056154256617\n"
     ]
    }
   ],
   "source": [
    "fil = fj.Filter(fj.JetDefinition(fj.cambridge_algorithm, 0.3), fj.SelectorPtFractionMin(0.3))\n",
    "final_jets = fj.sorted_by_pt([fil(jet) for jet in jets])\n",
    "\n",
    "print(\"------------------------------------\")\n",
    "print(len(final_jets))\n",
    "\n",
    "with open(\"results/trim-python.csv\", \"w\") as FILE:\n",
    "    FILE.write(\"pt,eta,m\\n\")\n",
    "    for jet in final_jets:\n",
    "        if jet.pt() > 0:\n",
    "            print(jet.pt(), jet.eta(), jet.m(), sep=\"\\t\")\n",
    "            FILE.write(f\"{jet.pt()},{jet.eta()},{jet.m()}\\n\")"
   ]
  },
  {
   "cell_type": "markdown",
   "metadata": {},
   "source": [
    "### Benchmarking the different modules"
   ]
  },
  {
   "cell_type": "code",
   "execution_count": 27,
   "metadata": {},
   "outputs": [
    {
     "name": "stdout",
     "output_type": "stream",
     "text": [
      "events-ee-Z.hepmc3\t43.05\t15\t7.648626963297526\n",
      "\n",
      "events-ee-H.hepmc3\t64.97\t15\t8.23227564493815\n",
      "\n",
      "events-pp-0.5TeV-5GeV.hepmc3\t112.62\t15\t14.360427856445312\n",
      "\n",
      "events-pp-1TeV-5GeV.hepmc3\t160.36\t15\t20.509084065755207\n",
      "\n",
      "events-pp-2TeV-5GeV.hepmc3\t188.21\t15\t31.053225199381508\n",
      "\n",
      "events-pp-1TeV.hepmc3\t226.98\t15\t26.3980229695638\n",
      "\n",
      "events-pp-2TeV.hepmc3\t226.98\t15\t26.748021443684895\n",
      "\n",
      "events-pp-5TeV-10GeV.hepmc3\t284.15\t15\t36.50585810343424\n",
      "\n",
      "events-pp-8TeV-20GeV.hepmc3\t354.18\t15\t40.83728790283203\n",
      "\n",
      "events-pp-13TeV-20GeV.hepmc\t431.18\t15\t49.218972524007164\n",
      "\n",
      "events-pp-20TeV-20GeV.hepmc3\t524.59\t15\t57.62751897176107\n",
      "\n",
      "events-pp-20TeV-50GeV.hepmc3\t553.64\t15\t56.17173512776693\n",
      "\n",
      "events-pp-30TeV-50GeV.hepmc3\t632.29\t15\t64.25110499064127\n",
      "\n"
     ]
    }
   ],
   "source": [
    "def read_hepmc_file(FILE):\n",
    "    total = []\n",
    "    with pyhepmc.open(f\"./benchmarks/data/{FILE}\", \"r\") as f:\n",
    "        \n",
    "        for i, event in enumerate(f):\n",
    "            particles = []\n",
    "            for j, particle in enumerate(event.particles):\n",
    "                if particle.status == 1: \n",
    "                # Access particle properties such as momentum, energy, etc.\n",
    "                # print(particle.momentum.px)\n",
    "                    px, py, pz = particle.momentum.px, particle.momentum.py, particle.momentum.pz\n",
    "                    energy = particle.momentum.e\n",
    "\n",
    "                    particles.append(fj.PseudoJet(px, py, pz, energy))\n",
    "            total.append(particles)\n",
    "\n",
    "    return total\n",
    "\n",
    "fileName = [\"events-ee-Z.hepmc3\", \"events-ee-H.hepmc3\", \\\n",
    "                \"events-pp-0.5TeV-5GeV.hepmc3\", \"events-pp-1TeV-5GeV.hepmc3\",\\\n",
    "                \"events-pp-2TeV-5GeV.hepmc3\", \"events-pp-1TeV.hepmc3\", \"events-pp-2TeV.hepmc3\",\\\n",
    "                \"events-pp-5TeV-10GeV.hepmc3\", \"events-pp-8TeV-20GeV.hepmc3\",\\\n",
    "                \"events-pp-13TeV-20GeV.hepmc\", \"events-pp-20TeV-20GeV.hepmc3\", \"events-pp-20TeV-50GeV.hepmc3\",\\\n",
    "                \"events-pp-30TeV-50GeV.hepmc3\"]\n",
    "\n",
    "trials = 15\n",
    "\n",
    "with open(\"./results/time-massdrop-python.csv\", \"w\") as FILE:\n",
    "    FILE.write(\"FileName,mean_particles,n_samples,time_per_event\\n\")\n",
    "    for eventFILE in fileName:\n",
    "        allEvents = read_hepmc_file(eventFILE)\n",
    "\n",
    "        avgTime = 0.0\n",
    "        for j in range(trials):\n",
    "            avgEvent = 0.0\n",
    "            count = 0\n",
    "            \n",
    "            for i in range(100):\n",
    "                count += len(allEvents[i])\n",
    "                cluster = makeJets(allEvents[i], 1.0)\n",
    "                jets = cluster.inclusive_jets(2.0)\n",
    "                mu = 0.67\n",
    "                ycut = 0.09\n",
    "                mass_drop_tagger = fj.MassDropTagger(mu, ycut)\n",
    "                start = time.time()\n",
    "                final_jets = [mass_drop_tagger(jet) for jet in jets]\n",
    "                \n",
    "                end = time.time() - start\n",
    "                print(final_jets[0])\n",
    "                avgEvent += end\n",
    "\n",
    "            \n",
    "            avgTime += avgEvent\n",
    "\n",
    "            # count += len(particle_data)\n",
    "        avgTime /= trials\n",
    "\n",
    "        print(f\"{eventFILE}\\t{count/100}\\t{trials}\\t{avgTime*10**4}\\n\")\n",
    "        FILE.write(f\"{eventFILE},{count/100},{trials},{avgTime*10**4}\\n\")\n"
   ]
  }
 ],
 "metadata": {
  "kernelspec": {
   "display_name": "base",
   "language": "python",
   "name": "python3"
  },
  "language_info": {
   "codemirror_mode": {
    "name": "ipython",
    "version": 3
   },
   "file_extension": ".py",
   "mimetype": "text/x-python",
   "name": "python",
   "nbconvert_exporter": "python",
   "pygments_lexer": "ipython3",
   "version": "3.9.12"
  }
 },
 "nbformat": 4,
 "nbformat_minor": 2
}
