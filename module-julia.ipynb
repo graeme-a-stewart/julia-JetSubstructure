{
 "cells": [
  {
   "cell_type": "markdown",
   "metadata": {},
   "source": [
    "### Importing the required packages\n"
   ]
  },
  {
   "cell_type": "code",
   "execution_count": 1,
   "metadata": {},
   "outputs": [],
   "source": [
    "using JetReconstruction\n",
    "using LorentzVectorHEP\n",
    "import LorentzVectorHEP.eta\n",
    "using Plots\n",
    "using StatsBase \n",
    "using DelimitedFiles\n",
    "using LoopVectorization"
   ]
  },
  {
   "cell_type": "markdown",
   "metadata": {},
   "source": [
    "### Implementing functions to load data from a file"
   ]
  },
  {
   "cell_type": "code",
   "execution_count": 2,
   "metadata": {},
   "outputs": [],
   "source": [
    "# function to read the full data file \n",
    "function readFile(file::Int64)\n",
    "    datafile = open(\"./total/$(file).txt\",\"r\")\n",
    "    lines = readlines(datafile)\n",
    "    close(datafile)\n",
    "\n",
    "    lines\n",
    "end;\n",
    "\n",
    "# function to create PseudoJets from a set of data\n",
    "# taking in px, py, pz, E of the particle\n",
    "function loadParticles(lines::Array{String})\n",
    "    jetData = Vector{PseudoJet}(undef, length(lines))\n",
    "\n",
    "    i = 1\n",
    "    for line in lines\n",
    "        \n",
    "        arr = split(line, \"\\t\")           \n",
    "        px = parse(Float64, arr[1])\n",
    "        py = parse(Float64, arr[2])\n",
    "        pz = parse(Float64, arr[3])\n",
    "        E = parse(Float64, arr[4])\n",
    "        \n",
    "        jetData[i] = PseudoJet(px, py, pz, E)\n",
    "        i += 1\n",
    "    end\n",
    "\n",
    "    jetData\n",
    "end;\n",
    "\n",
    "# function for jet reconstruction\n",
    "# uses Cambridge-Aachen algorithm with jet radius 1.0 by default\n",
    "function makeJets(data::Vector{PseudoJet}, mtd = 0, rad = 1.0)\n",
    "    finaljets = jet_reconstruct(data; p = mtd, R = rad, recombine = +, strategy = RecoStrategy.Best)\n",
    "    finaljets\n",
    "end;\n",
    "\n"
   ]
  },
  {
   "cell_type": "markdown",
   "metadata": {},
   "source": [
    "### Implementing histogram plotting function\n"
   ]
  },
  {
   "cell_type": "code",
   "execution_count": 3,
   "metadata": {},
   "outputs": [],
   "source": [
    "function plotHIST(jets::Vector{PseudoJet}, choice::Int)\n",
    "    NUM = length(jets)\n",
    "    values = []\n",
    "    \n",
    "    if (choice === 1)\n",
    "        for j in 1:NUM\n",
    "            pt = pt2(jets[j]) ^ 0.5\n",
    "            push!(values, pt)\n",
    "        end\n",
    "\n",
    "    elseif(choice === 2)\n",
    "        for j in 1:NUM\n",
    "            pseuRap = eta(jets[j])\n",
    "            # pseuRap = jets[j]._rap\n",
    "            # push!(values, pseuRap)\n",
    "            -100 < pseuRap < 100 ? push!(values, pseuRap) : continue\n",
    "        end\n",
    "        \n",
    "    elseif(choice === 3)\n",
    "        for j in 1:NUM\n",
    "            PHI = phi(jets[j])\n",
    "            push!(values, PHI)\n",
    "        end\n",
    "\n",
    "    else\n",
    "        println(\"Enter a valid choice.\")\n",
    "        return\n",
    "    end\n",
    "\n",
    "\n",
    "    MIN = minimum(values)\n",
    "    MAX = maximum(values)\n",
    "\n",
    "    x = LinRange(MIN, MAX+1, 51)\n",
    "\n",
    "    println(\"Mean = $(mean(values))\")\n",
    "    println(\"Standard deviation = $(std(values))\")\n",
    "    display(histogram(values, bins=x))#, yaxis=(:log10)))\n",
    "    # savefig(histogram(pt, bins=x, yaxis=(:log10)), \"pt-julia.png\")\n",
    "    # sleep(10)\n",
    "end;"
   ]
  },
  {
   "cell_type": "markdown",
   "metadata": {},
   "source": [
    "### Defining some utility functions"
   ]
  },
  {
   "cell_type": "code",
   "execution_count": 4,
   "metadata": {},
   "outputs": [],
   "source": [
    "m2(p) = JetReconstruction.m2(p);\n",
    "pt2(p) = JetReconstruction.pt2(p);\n",
    "eta(p) = JetReconstruction.eta(p);\n",
    "phi(p) = JetReconstruction.phi(p);\n",
    "NonexistentParent = JetReconstruction.NonexistentParent;\n",
    "BeamJet = JetReconstruction.BeamJet;\n",
    "\n",
    "# function to see if  a jet has parent jets\n",
    "function has_parents(jet, history)\n",
    "    \n",
    "    N = jet._cluster_hist_index\n",
    "    p1 = history[N].parent1\n",
    "    p2 = history[N].parent2\n",
    "    # println(N)\n",
    "    p1 === p2 === NonexistentParent ? result = false : result = true\n",
    "    return result, p1, p2\n",
    "\n",
    "end;\n",
    "\n",
    "# Function to calculate ΔR\n",
    "function delta_R(jet1, jet2)\n",
    "    eta1, phi1 = jet1._rap, jet1._phi\n",
    "    eta2, phi2 = jet2._rap, jet2._phi\n",
    "\n",
    "    d_eta = eta1 - eta2\n",
    "    d_phi = phi1 - phi2\n",
    "    d_phi = abs(d_phi) > π ? 2π - abs(d_phi) : d_phi\n",
    "    return sqrt(d_eta^2 + d_phi^2)\n",
    "end;\n",
    "\n",
    "# Function to calculate kt distance between two pseudojets\n",
    "function kt_distance(jet1::PseudoJet, jet2::PseudoJet, R = 1)\n",
    "    p1 = pt2(jet1)\n",
    "    p2 = pt2(jet2)\n",
    "    \n",
    "    d_R = delta_R(jet1, jet2)\n",
    "    return min(p1, p2) * (d_R^2 / R^2)\n",
    "end;\n",
    "\n",
    "# Function to get the constituents of a particular jet\n",
    "function jet_constituents(jet::PseudoJet, clusterseq::ClusterSequence)\n",
    "    constituents = Vector{PseudoJet}(undef, 0)\n",
    "    \n",
    "    hist = clusterseq.history\n",
    "    allJets = clusterseq.jets\n",
    "\n",
    "    had_parents, p1, p2 = has_parents(jet, hist)\n",
    "    \n",
    "    if (had_parents)\n",
    "        parent1 = allJets[hist[p1].jetp_index]\n",
    "        parent2 = allJets[hist[p2].jetp_index]\n",
    "\n",
    "        append!(constituents,jet_constituents(parent1, clusterseq))\n",
    "        append!(constituents,jet_constituents(parent2, clusterseq))\n",
    "    else \n",
    "        push!(constituents, jet)\n",
    "        return constituents\n",
    "    end \n",
    "\n",
    "end;\n",
    "\n",
    "# Function to recluster the constituents of a jet in a different method\n",
    "function recluster(jet::PseudoJet, clusterseq::ClusterSequence, rad = 1.0, mtd = 0)\n",
    "    constituents = jet_constituents(jet, clusterseq)\n",
    "    new_clusterseq = jet_reconstruct(constituents; p = mtd, R = rad, strategy = RecoStrategy.N2Plain)\n",
    "   \n",
    "    return new_clusterseq\n",
    "end;\n",
    "\n",
    "function sort_jets!(event_jet_array)\n",
    "    jet_pt(jet) = pt2(jet)^0.5\n",
    "    sort!(event_jet_array, by = jet_pt, rev = true)\n",
    "    # println(event_jet_array)\n",
    "end;\n",
    "\n",
    "function join(jets::Vector{PseudoJet})\n",
    "    px = py = pz = E = 0.0\n",
    "\n",
    "    for jet in jets\n",
    "        px += jet.px\n",
    "        py += jet.py\n",
    "        pz += jet.pz\n",
    "        E += jet.E\n",
    "    end\n",
    "\n",
    "    combinedJet = PseudoJet(px, py, pz, E)\n",
    "    combinedJet\n",
    "end;\n",
    "\n",
    "function get_inclusive_jets(clusterseq::ClusterSequence, ptmin = 0.0)\n",
    "    jets = Vector{PseudoJet}(undef, 0)\n",
    "    dcut = ptmin * ptmin\n",
    "\n",
    "    for elt in clusterseq.history\n",
    "        elt.parent2 == BeamJet || continue;\n",
    "        iparent_jet = clusterseq.history[elt.parent1].jetp_index;\n",
    "        jet = clusterseq.jets[iparent_jet];\n",
    "    \n",
    "        if (pt2(jet) >= dcut)\n",
    "            push!(jets, jet);\n",
    "        end;\n",
    "    \n",
    "    end;\n",
    "\n",
    "    jets\n",
    "end;\n"
   ]
  },
  {
   "cell_type": "markdown",
   "metadata": {},
   "source": [
    "### Implementing the Mass Drop Tagger"
   ]
  },
  {
   "cell_type": "code",
   "execution_count": 5,
   "metadata": {},
   "outputs": [],
   "source": [
    "struct MassDropTagger\n",
    "    mu::Float64\n",
    "    y::Float64\n",
    "end;\n",
    "\n",
    "function apply_massdrop(jet::PseudoJet, clusterseq::ClusterSequence, tag::MassDropTagger)\n",
    "    allJets = clusterseq.jets\n",
    "    hist = clusterseq.history\n",
    "\n",
    "    while(true)\n",
    "        had_parents, p1, p2 = has_parents(jet, hist)\n",
    "\n",
    "        if (had_parents)\n",
    "            parent1 = allJets[hist[p1].jetp_index]\n",
    "            parent2 = allJets[hist[p2].jetp_index]\n",
    "\n",
    "            if (m2(parent1) < m2(parent2))\n",
    "                p1, p2 = p2, p1\n",
    "                parent1, parent2 = parent2, parent1\n",
    "            end\n",
    "\n",
    "            if ((m2(parent1) < m2(jet)*tag.mu^2) && (kt_distance(parent1, parent2) > tag.y*m2(jet)))\n",
    "                return jet\n",
    "            else\n",
    "                jet = parent1\n",
    "            end\n",
    "    \n",
    "        else \n",
    "            return PseudoJet(0.0, 0.0, 0.0, 0.0)\n",
    "        end\n",
    "\n",
    "    end\n",
    "\n",
    "end;\n"
   ]
  },
  {
   "cell_type": "code",
   "execution_count": 13,
   "metadata": {},
   "outputs": [
    {
     "name": "stdout",
     "output_type": "stream",
     "text": [
      "  0.000131 seconds (777 allocations: 115.469 KiB)\n",
      "11\n",
      "  0.000007 seconds (1 allocation: 80 bytes)\n",
      "1\tOriginal jet: pt = 26.130848232425834, eta = 3.406422621141889, phi = 2.6749116992524002, E = 394.5340289934504\n",
      "1\tTagged jet: pt = 0.0, eta = 0.0, phi = 0.0, E = 0.0\n",
      "\n",
      "  0.000001 seconds (1 allocation: 80 bytes)\n",
      "2\tOriginal jet: pt = 2.125720970693987, eta = 2.418204608888067, phi = 2.6716158036886775, E = 12.163646946977643\n",
      "2\tTagged jet: pt = 0.0, eta = 0.0, phi = 0.0, E = 0.0\n",
      "\n",
      "  0.000001 seconds (1 allocation: 80 bytes)\n",
      "3\tOriginal jet: pt = 2.0086398616206367, eta = -1.5974788148568575, phi = 5.05065699790494, E = 5.620447377513666\n",
      "3\tTagged jet: pt = 0.0, eta = 0.0, phi = 0.0, E = 0.0\n",
      "\n",
      "  0.000001 seconds\n",
      "4\tOriginal jet: pt = 4.373967011936128, eta = -0.245263138384402, phi = 1.46563570138571, E = 5.153599395423116\n",
      "4\tTagged jet: pt = 4.373967011936128, eta = -0.245263138384402, phi = 1.46563570138571, E = 5.153599395423116\n",
      "\n",
      "  0.000001 seconds\n",
      "5\tOriginal jet: pt = 12.586904469090056, eta = 1.7809156033724232, phi = 6.129839442886363, E = 39.341040840487125\n",
      "5\tTagged jet: pt = 12.586904469090056, eta = 1.7809156033724232, phi = 6.129839442886363, E = 39.341040840487125\n",
      "\n",
      "  0.000001 seconds\n",
      "6\tOriginal jet: pt = 23.644026291439253, eta = -2.281369101018987, phi = 5.2711788682564675, E = 117.25517550003939\n",
      "6\tTagged jet: pt = 15.037500552202697, eta = -2.140603752084829, phi = 5.2873519116551115, E = 64.88733268257475\n",
      "\n",
      "  0.000000 seconds\n",
      "7\tOriginal jet: pt = 2.1797449587738402, eta = -8.071068147143508, phi = 1.2704778599794635, E = 3488.158297453202\n",
      "7\tTagged jet: pt = 2.1797449587738402, eta = -8.071068147143508, phi = 1.2704778599794635, E = 3488.158297453202\n",
      "\n",
      "  0.000000 seconds\n",
      "8\tOriginal jet: pt = 3.3439531295491505, eta = -1.9436688109037532, phi = 1.5352538003514755, E = 12.365725109089018\n",
      "8\tTagged jet: pt = 3.3439531295491505, eta = -1.9436688109037532, phi = 1.5352538003514755, E = 12.365725109089018\n",
      "\n",
      "  0.000000 seconds\n",
      "9\tOriginal jet: pt = 2.48768233091831, eta = -0.8177598891625232, phi = 0.1329137506706785, E = 3.638587770333535\n",
      "9\tTagged jet: pt = 2.48768233091831, eta = -0.8177598891625232, phi = 0.1329137506706785, E = 3.638587770333535\n",
      "\n",
      "  0.000000 seconds\n",
      "10\tOriginal jet: pt = 2.2464885078239303, eta = 1.7455644977280311, phi = 3.6063896578231613, E = 6.8811518878046405\n",
      "10\tTagged jet: pt = 2.2464885078239303, eta = 1.7455644977280311, phi = 3.6063896578231613, E = 6.8811518878046405\n",
      "\n",
      "  0.000001 seconds\n",
      "11\tOriginal jet: pt = 4.25496424823028, eta = 0.9892011098399706, phi = 2.4143391152495934, E = 6.983588271467695\n",
      "11\tTagged jet: pt = 3.5649614011641453, eta = 1.0286210400408577, phi = 2.5256138204970515, E = 5.791343714220323\n",
      "\n",
      "PseudoJet[Pseudojet(px: -23.336585823999947 py: 11.756912495428253 pz: 393.582938413314 E: 394.5340289934504; pt: 26.130848232425834 rapidity: 3.359896244179256 phi: 2.6749116992524002, m: 8.17003025699191), Pseudojet(px: -1.8952476933434816 py: 0.9626659992564388 pz: 11.836657717838854 E: 12.163646946977643; pt: 2.125720970693987 rapidity: 2.1479472858377906 phi: 2.6716158036886775, m: 1.8245962501869402), Pseudojet(px: 0.6665746869546064 py: -1.8948119380040698 pz: -4.758622961822162 E: 5.620447377513666; pt: 2.0086398616206367 rapidity: -1.2442475171013214 phi: 5.05065699790494, m: 2.2159201558106165), Pseudojet(px: 0.45912179403471437 py: 4.349803972565638 pz: -1.08356053604961 E: 5.153599395423116; pt: 4.373967011936128 rapidity: -0.21343619621022644 phi: 1.46563570138571, m: 2.5007790529584835), Pseudojet(px: 12.43920400011813 py: -1.9225940698557125 pz: 36.29310859870117 E: 39.341040840487125; pt: 12.586904469090056 rapidity: 1.6057222430803606 phi: 6.129839442886363, m: 8.491030475846856), Pseudojet(px: 12.535129641433354 py: -20.047705707704548 pz: -114.53084260760815 E: 117.25517550003939; pt: 23.644026291439253 rapidity: -2.2217955111413668 phi: 5.2711788682564675, m: 8.51012889832201), Pseudojet(px: 0.644821820087706 py: 2.082184647344886 pz: -3488.1568323398556 E: 3488.158297453202; pt: 2.1797449587738402 rapidity: -7.68804940393188 phi: 1.2704778599794635, m: 2.3387612791465076), Pseudojet(px: 0.11882752028104782 py: 3.3418411920744253 pz: -11.438243327612666 E: 12.365725109089018; pt: 3.3439531295491505 rapidity: -1.622567217561068 phi: 1.5352538003514755, m: 3.300867237447968), Pseudojet(px: 2.4657408820345132 py: 0.32967450951933736 pz: -2.2687662642340336 E: 3.638587770333535; pt: 2.48768233091831 rapidity: -0.7307587887228509 phi: 0.1329137506706785, m: 1.3796583711669916), Pseudojet(px: -2.0081643270074356 py: -1.0069690419867743 pz: 6.239159296671273 E: 6.8811518878046405; pt: 2.2464885078239303 rapidity: 1.5086700086065477 phi: 3.6063896578231613, m: 1.8375069953643175), Pseudojet(px: -3.1784715752316988 py: 2.828787584666264 pz: 4.929826409117615 E: 6.983588271467695; pt: 4.25496424823028 rapidity: 0.8789959414967727 phi: 2.4143391152495934, m: 2.522418674135956)]\n",
      "15.037500552202697\t2.7782711080217615\n",
      "12.586904469090056\t8.491030475846856\n",
      "4.373967011936128\t2.5007790529584835\n",
      "3.5649614011641453\t1.385375128391125\n",
      "3.3439531295491505\t3.300867237447968\n",
      "2.48768233091831\t1.3796583711669916\n",
      "2.2464885078239303\t1.8375069953643175\n",
      "2.1797449587738402\t2.3387612791465076\n"
     ]
    }
   ],
   "source": [
    "fullData = readFile(0)\n",
    "particles = loadParticles(fullData)\n",
    "\n",
    "@time data = makeJets(particles, 0, 1.0)\n",
    "\n",
    "count = 1\n",
    "\n",
    "ptmin = 2.0\n",
    "\n",
    "allJets = get_inclusive_jets(data, ptmin)\n",
    "taggedJets = Vector{PseudoJet}(undef, 0)\n",
    "println(length(allJets))\n",
    "\n",
    "for jet in allJets\n",
    "    global count\n",
    "    mdt = MassDropTagger(0.67, 0.09)\n",
    "    @time trial = apply_massdrop(jet, data, mdt)\n",
    "    push!(taggedJets, trial)\n",
    "    println(count, \"\\tOriginal jet: pt = $(pt2(jet) ^ 0.5), eta = $(eta(jet)), phi = $(phi(jet)), E = $(jet.E)\")\n",
    "    println(count, \"\\tTagged jet: pt = $(pt2(trial) ^ 0.5), eta = $(eta(trial)), phi = $(phi(trial)), E = $(trial.E)\")\n",
    "    println()\n",
    "\n",
    "    count += 1\n",
    "end\n",
    "\n",
    "mdt = MassDropTagger(0.67, 0.09)\n",
    "filtered = [apply_massdrop(jet, data, mdt) for jet in allJets]\n",
    "sort_jets!(filtered)\n",
    "\n",
    "println(allJets)\n",
    "open(\"./results/massdrop-julia.csv\", \"w\") do FILE\n",
    "    write(FILE, \"pt,eta,m\\n\")\n",
    "\n",
    "    for jet in filtered\n",
    "        if pt2(jet) > 0\n",
    "            println(pt2(jet)^0.5,\"\\t\",sign(m2(jet))*abs(m2(jet))^0.5)\n",
    "            write(FILE, \"$(pt2(jet)^0.5),$(eta(jet)),$(sign(m2(jet))*abs(m2(jet))^0.5)\\n\")\n",
    "        end\n",
    "    end\n",
    "\n",
    "end\n"
   ]
  },
  {
   "cell_type": "markdown",
   "metadata": {},
   "source": [
    "### Implementing the Soft Drop Tagger"
   ]
  },
  {
   "cell_type": "code",
   "execution_count": 8,
   "metadata": {},
   "outputs": [],
   "source": [
    "struct SoftDropTagger\n",
    "    zcut::Float64\n",
    "    b::Float64\n",
    "end;\n",
    "\n",
    "function apply_softdrop(jet::PseudoJet, clusterseq::ClusterSequence, rad::Float64, tag::SoftDropTagger)\n",
    "    new_clusterseq = recluster(jet, clusterseq, rad, 0)\n",
    "    new_jet = get_inclusive_jets(new_clusterseq)[1]\n",
    "\n",
    "    allJets = new_clusterseq.jets\n",
    "    hist = new_clusterseq.history\n",
    "    \n",
    "    while(true)\n",
    "        had_parents, p1, p2 = has_parents(new_jet, hist)\n",
    "\n",
    "        if (had_parents)\n",
    "            parent1 = allJets[hist[p1].jetp_index]\n",
    "            parent2 = allJets[hist[p2].jetp_index]\n",
    "\n",
    "            pti = pt2(parent1)^0.5\n",
    "            ptj = pt2(parent2)^0.5\n",
    "\n",
    "            if (m2(parent1) < m2(parent2))\n",
    "                p1, p2 = p2, p1\n",
    "                parent1, parent2 = parent2, parent1\n",
    "            end\n",
    "\n",
    "            if (min(pti, ptj)/(pti + ptj) > tag.zcut * (delta_R(parent1, parent2)/rad) ^ tag.b)\n",
    "                return new_jet\n",
    "            else\n",
    "                new_jet = parent1\n",
    "            end\n",
    "    \n",
    "        else \n",
    "            return PseudoJet(0.0, 0.0, 0.0, 0.0)\n",
    "        end\n",
    "\n",
    "    end\n",
    "\n",
    "end;\n"
   ]
  },
  {
   "cell_type": "code",
   "execution_count": 10,
   "metadata": {},
   "outputs": [
    {
     "name": "stdout",
     "output_type": "stream",
     "text": [
      "  0.000190 seconds (773 allocations: 115.203 KiB)\n",
      "9\n",
      "  0.147255 seconds (130.85 k allocations: 6.247 MiB, 99.95% compilation time)\n",
      "1\tOriginal jet: pt = 26.130848232425834, eta = 3.406422621141889, phi = 2.6749116992524007, E = 394.5340289934503\n",
      "1\tTagged jet: pt = 25.230948732943812, eta = 3.379827053371096, phi = 2.6857282124998707, E = 370.95059202783114\n",
      "\n",
      "  0.000027 seconds (211 allocations: 32.516 KiB)\n",
      "2\tOriginal jet: pt = 25.156074535747507, eta = -2.2511071775624996, phi = 5.259380832613704, E = 121.29322998338885\n",
      "2\tTagged jet: pt = 23.189650402038197, eta = -2.2643806315908557, phi = 5.286708126323866, E = 113.05344713237298\n",
      "\n",
      "  0.000006 seconds (85 allocations: 9.109 KiB)\n",
      "3\tOriginal jet: pt = 12.680797211997875, eta = 1.7778892659226257, phi = 6.136677084752503, E = 39.54085507853854\n",
      "3\tTagged jet: pt = 12.680797211997872, eta = 1.7778892659226257, phi = 6.136677084752503, E = 39.54085507853854\n",
      "\n",
      "  0.000008 seconds (66 allocations: 6.594 KiB)\n",
      "4\tOriginal jet: pt = 5.084848379504678, eta = -0.10959220045894455, phi = 1.5309326353500117, E = 6.277085934111089\n",
      "4\tTagged jet: pt = 5.084848379504679, eta = -0.10959220045894447, phi = 1.5309326353500117, E = 6.27708593411109\n",
      "\n",
      "  0.000005 seconds (56 allocations: 4.094 KiB)\n",
      "5\tOriginal jet: pt = 3.9526919514904058, eta = 1.1225387568502694, phi = 2.5707146989792906, E = 7.040959657534909\n",
      "5\tTagged jet: pt = 3.8095738185117543, eta = 1.0457087420924873, phi = 2.5726656886231343, E = 6.333181786042725\n",
      "\n",
      "  0.000008 seconds (66 allocations: 6.594 KiB)\n",
      "6\tOriginal jet: pt = 2.8259381716635756, eta = 2.3696715979354623, phi = 2.9408587650157796, E = 15.443679669899861\n",
      "6\tTagged jet: pt = 2.825938171663575, eta = 2.3696715979354623, phi = 2.9408587650157796, E = 15.443679669899863\n",
      "\n",
      "  0.000003 seconds (46 allocations: 3.000 KiB)\n",
      "7\tOriginal jet: pt = 2.48768233091831, eta = -0.8177598891625232, phi = 0.1329137506706785, E = 3.638587770333535\n",
      "7\tTagged jet: pt = 2.48768233091831, eta = -0.8177598891625232, phi = 0.1329137506706785, E = 3.638587770333535\n",
      "\n",
      "  0.000006 seconds (78 allocations: 8.281 KiB)\n",
      "8\tOriginal jet: pt = 3.5165963108418103, eta = -2.2692287268359017, phi = 1.4030611642060529, E = 17.52108701993161\n",
      "8\tTagged jet: pt = 2.6254166539791206, eta = -2.005312127726963, phi = 1.309734938640221, E = 10.202471485765436\n",
      "\n",
      "  0.000003 seconds (51 allocations: 3.484 KiB)\n",
      "9\tOriginal jet: pt = 2.1797449587738402, eta = -8.071068147143508, phi = 1.2704778599794635, E = 3488.158297453202\n",
      "9\tTagged jet: pt = 2.1797449587738402, eta = -8.071068147143508, phi = 1.2704778599794635, E = 3488.158297453202\n",
      "\n",
      "25.230948732943812\t6.607856700096616\n",
      "23.189650402038197\t7.465290650172951\n",
      "12.680797211997872\t8.619808387552224\n",
      "5.084848379504679\t3.637903400988407\n",
      "3.8095738185117543\t1.740468964112544\n",
      "2.825938171663575\t2.48617097253433\n",
      "2.6254166539791206\t2.3503590943251518\n",
      "2.48768233091831\t1.3796583711669916\n",
      "2.1797449587738402\t2.3387612791465076\n"
     ]
    }
   ],
   "source": [
    "fullData = readFile(0)\n",
    "particles = loadParticles(fullData)\n",
    "\n",
    "@time data = makeJets(particles, -1, 1.0)\n",
    "\n",
    "mdt = SoftDropTagger(0.1, 2.0)\n",
    "count = 1\n",
    "\n",
    "ptmin = 2.0\n",
    "\n",
    "allJets = get_inclusive_jets(data, ptmin)\n",
    "length(allJets)\n",
    "taggedJets = Vector{PseudoJet}(undef, 0)\n",
    "println(length(allJets))\n",
    "\n",
    "for jet in allJets\n",
    "    global count\n",
    "    @time trial = apply_softdrop(jet, data, 1.0, mdt)\n",
    "    push!(taggedJets, trial)\n",
    "    println(count, \"\\tOriginal jet: pt = $(pt2(jet) ^ 0.5), eta = $(eta(jet)), phi = $(phi(jet)), E = $(jet.E)\")\n",
    "    println(count, \"\\tTagged jet: pt = $(pt2(trial) ^ 0.5), eta = $(eta(trial)), phi = $(phi(trial)), E = $(trial.E)\")\n",
    "    println()\n",
    "\n",
    "    count += 1\n",
    "end\n",
    "\n",
    "filtered = [apply_softdrop(jet, data, 1.0, mdt) for jet in allJets]\n",
    "sort_jets!(filtered)\n",
    "\n",
    "open(\"./results/softdrop-julia.csv\", \"w\") do FILE\n",
    "    write(FILE, \"pt,eta,m\\n\")\n",
    "    for jet in filtered\n",
    "\n",
    "        if pt2(jet) > 0\n",
    "            final = jet\n",
    "            # println(pt2(final)^0.5,\"\\t\",sign(m2(final))*abs(m2(final))^0.5)\n",
    "            write(FILE, \"$(pt2(final)^0.5),$(eta(final)),$(sign(m2(final))*abs(m2(final))^0.5)\\n\")\n",
    "        end\n",
    "    end\n",
    "end\n"
   ]
  },
  {
   "cell_type": "markdown",
   "metadata": {},
   "source": [
    "### Implementing Jet Filtering"
   ]
  },
  {
   "cell_type": "code",
   "execution_count": 11,
   "metadata": {},
   "outputs": [],
   "source": [
    "struct Filter\n",
    "    filterRadius::Float64 \n",
    "    numHardestJets::Int\n",
    "end;\n",
    "\n",
    "function apply_filter(jet::PseudoJet, clusterseq::ClusterSequence, filter::Filter)\n",
    "    rad = filter.filterRadius;\n",
    "    new_clusterseq = recluster(jet, clusterseq, rad, 0)\n",
    "    reclustered = sort_jets!(get_inclusive_jets(new_clusterseq))\n",
    "\n",
    "    n = length(reclustered) <= filter.numHardestJets ? length(reclustered) : filter.numHardestJets \n",
    "    hard = reclustered[1:n]\n",
    "    \n",
    "    filtered = join(hard)\n",
    "    \n",
    "    filtered    \n",
    "end;\n"
   ]
  },
  {
   "cell_type": "markdown",
   "metadata": {},
   "source": [
    "### Using the Filter"
   ]
  },
  {
   "cell_type": "code",
   "execution_count": 14,
   "metadata": {},
   "outputs": [
    {
     "name": "stdout",
     "output_type": "stream",
     "text": [
      "25.425973541479426\t7.210829212029251\n",
      "19.38426838643532\t4.940888635018613\n",
      "12.019482608698311\t6.671551849243314\n",
      "4.118477623409108\t2.3690413802846306\n",
      "4.070582559375079\t2.3285876831086623\n",
      "2.487682330918309\t1.3796583711669919\n",
      "2.1864737162176358\t2.1299068355434225\n",
      "2.125720970693987\t1.8245962501869402\n",
      "1.986731603795744\t2.234241203271326\n",
      "1.7682801418035814\t1.742592726752077\n",
      "1.6337885215517716\t0.8683760196849447\n"
     ]
    }
   ],
   "source": [
    "F = Filter(0.3, 3);\n",
    "filtered = [apply_filter(jet, data, F) for jet in allJets]\n",
    "sort_jets!(filtered)\n",
    "\n",
    "open(\"./results/filter-julia.csv\", \"w\") do FILE\n",
    "    write(FILE, \"pt,eta,m\\n\")\n",
    "\n",
    "    for jet in filtered\n",
    "        final = jet\n",
    "        println(pt2(final)^0.5,\"\\t\",sign(m2(final))*abs(m2(final))^0.5)\n",
    "        write(FILE, \"$(pt2(final)^0.5),$(eta(final)),$(sign(m2(final))*abs(m2(final))^0.5)\\n\")\n",
    "    end\n",
    "end\n",
    "\n"
   ]
  },
  {
   "cell_type": "markdown",
   "metadata": {},
   "source": [
    "### Implementing Jet Trimming"
   ]
  },
  {
   "cell_type": "code",
   "execution_count": 15,
   "metadata": {},
   "outputs": [],
   "source": [
    "struct Trim\n",
    "    trimRadius::Float64\n",
    "    trimFraction::Float64\n",
    "    reclusterMethod::Int\n",
    "end;\n",
    "\n",
    "function apply_trim(jet::PseudoJet, clusterseq::ClusterSequence, trim::Trim)\n",
    "    constituents = jet_constituents(jet, clusterseq);\n",
    "    rad = trim.trimRadius;\n",
    "    mtd = trim.reclusterMethod\n",
    "    frac2 = trim.trimFraction ^ 2\n",
    "\n",
    "    reclustered = get_inclusive_jets(plain_jet_reconstruct(constituents; p = mtd, R = rad));\n",
    "    sort_jets!(reclustered);\n",
    "    \n",
    "    hard = Vector{PseudoJet}(undef, 0)\n",
    "    for item in reclustered\n",
    "        if pt2(item) >= frac2 * pt2(jet)\n",
    "            push!(hard, item)\n",
    "        end\n",
    "    end\n",
    "    trimmed = join(hard)\n",
    "    \n",
    "    trimmed    \n",
    "end;"
   ]
  },
  {
   "cell_type": "code",
   "execution_count": 16,
   "metadata": {},
   "outputs": [
    {
     "name": "stdout",
     "output_type": "stream",
     "text": [
      "24.0024657948891\t5.931458819456554\n",
      "11.39058332934317\t1.3116812665798905\n",
      "8.958194272123187\t2.466264379925911\n",
      "3.5649614011641453\t1.385375128391125\n",
      "2.1376462300800347\t1.172218172070111\n",
      "2.125720970693987\t1.8245962501869402\n",
      "1.8254297278011031\t0.9395700000000008\n",
      "1.6925532105156107\t2.0683933326506128\n",
      "1.539181615169957\t0.935056154256617\n"
     ]
    }
   ],
   "source": [
    "T = Trim(0.3, 0.3, 0);\n",
    "\n",
    "filtered = [apply_trim(jet, data, T) for jet in allJets]\n",
    "sort_jets!(filtered)\n",
    "\n",
    "open(\"./results/trim-julia.csv\", \"w\") do FILE\n",
    "    write(FILE, \"pt,eta,m\\n\")\n",
    "\n",
    "    for jet in filtered\n",
    "        if (pt2(jet) > 0)\n",
    "            final = jet\n",
    "            println(pt2(final)^0.5,\"\\t\",sign(m2(final))*abs(m2(final))^0.5)\n",
    "            write(FILE, \"$(pt2(final)^0.5),$(eta(final)),$(sign(m2(final))*abs(m2(final))^0.5)\\n\")\n",
    "        end\n",
    "    end\n",
    "end\n",
    "\n"
   ]
  },
  {
   "cell_type": "markdown",
   "metadata": {},
   "source": [
    "### Implementing JH Top Tagging"
   ]
  },
  {
   "cell_type": "code",
   "execution_count": 6,
   "metadata": {},
   "outputs": [
    {
     "data": {
      "text/plain": [
       "apply_JHTagger (generic function with 1 method)"
      ]
     },
     "execution_count": 6,
     "metadata": {},
     "output_type": "execute_result"
    }
   ],
   "source": [
    "struct JHTopTagger\n",
    "    delP::Float64\n",
    "    delR::Float64\n",
    "    cosTW::Float64\n",
    "end\n",
    "\n",
    "function manhattan_dist(jet1::PseudoJet, jet2::PseudoJet)\n",
    "    y1 = JetReconstruction.rapidity(jet1)\n",
    "    y2 = JetReconstruction.rapidity(jet2)\n",
    "    ϕ1 = phi(jet1)\n",
    "    ϕ2 = phi(jet2)\n",
    "\n",
    "    return abs(y1 - y2) + abs(ϕ1 - ϕ2)\n",
    "end\n",
    "\n",
    "function JH_decluster(jet::PseudoJet, clusterseq::ClusterSequence, Δp::Float64, Δr::Float64, pt0::Float64)\n",
    "\n",
    "    allJets = clusterseq.jets\n",
    "    hist = clusterseq.history\n",
    "\n",
    "    \n",
    "    new_jet = jet\n",
    "    \n",
    "    while(true)\n",
    "        jets = Vector{PseudoJet}(undef, 0)\n",
    "        had_parents, p1, p2 = has_parents(new_jet, hist)\n",
    "\n",
    "        if (had_parents)\n",
    "            global jets\n",
    "            parent1 = allJets[hist[p1].jetp_index]\n",
    "            parent2 = allJets[hist[p2].jetp_index]\n",
    "\n",
    "            pti = pt2(parent1)^0.5\n",
    "            ptj = pt2(parent2)^0.5\n",
    "\n",
    "            if ((pti/pt0 < Δp && ptj/pt0 < Δp) || (manhattan_dist(parent1, parent2) < Δr))\n",
    "                push!(jets, PseudoJet(0.0, 0.0, 0.0, 0.0))\n",
    "                break\n",
    "\n",
    "            elseif ((pti < ptj) && (pti/pt0 < Δp))\n",
    "                new_jet = parent2\n",
    "\n",
    "            elseif ((ptj < pti) && (ptj/pt0 < Δp))\n",
    "                new_jet = parent1\n",
    "\n",
    "            else \n",
    "                push!(jets, parent1)\n",
    "                push!(jets, parent2)\n",
    "                break\n",
    "            end\n",
    "    \n",
    "        else \n",
    "            push!(jets, PseudoJet(0.0, 0.0, 0.0, 0.0))\n",
    "            break\n",
    "        end\n",
    "\n",
    "    end\n",
    "\n",
    "    if length(jets) === 1\n",
    "        push!(jets, jet)\n",
    "    end\n",
    "\n",
    "    return jets\n",
    "\n",
    "end\n",
    "\n",
    "\n",
    "function apply_JHTagger(jet::PseudoJet, clusterseq::ClusterSequence, tagger::JHTopTagger)\n",
    "    Δp = tagger.delP\n",
    "    Δr = tagger.delR\n",
    "    cosΘW = tagger.cosTW\n",
    "\n",
    "    allJets = clusterseq.jets\n",
    "    hist = clusterseq.history\n",
    "    jet_pt = pt2(jet)^0.5\n",
    "\n",
    "    new_jet = jet\n",
    "    \n",
    "    while(true)\n",
    "        had_parents, p1, p2 = has_parents(new_jet, hist)\n",
    "\n",
    "        if (had_parents)\n",
    "            parent1 = allJets[hist[p1].jetp_index]\n",
    "            parent2 = allJets[hist[p2].jetp_index]\n",
    "\n",
    "            pti = pt2(parent1)^0.5\n",
    "            ptj = pt2(parent2)^0.5\n",
    "\n",
    "            if ((pti/jet_pt < Δp && ptj/jet_pt < Δp) || (manhattan_dist(parent1, parent2) < Δr))\n",
    "                # return PseudoJet(0.0, 0.0, 0.0, 0.0)\n",
    "                return [PseudoJet(0.0, 0.0, 0.0, 0.0), []]\n",
    "\n",
    "\n",
    "            elseif ((pti < ptj) && (pti/jet_pt < Δp))\n",
    "                new_jet = parent2\n",
    "\n",
    "            elseif ((ptj < pti) && (ptj/jet_pt < Δp))\n",
    "                new_jet = parent1\n",
    "\n",
    "            else \n",
    "                arr1 = JH_decluster(parent1, clusterseq, Δp, Δr, jet_pt)\n",
    "                arr2 = JH_decluster(parent2, clusterseq, Δp, Δr, jet_pt)\n",
    "\n",
    "                final = vcat(arr1, arr2)\n",
    "\n",
    "                filter!(e -> (e.px ≠ 0.0 && e.py ≠ 0.0 && e.pz ≠ 0.0), final)\n",
    "                if length(final) > 2\n",
    "                    # return join(final)\n",
    "                    return [join(final), final]\n",
    "                else\n",
    "                    # return PseudoJet(0.0, 0.0, 0.0, 0.0)\n",
    "                    return [PseudoJet(0.0, 0.0, 0.0, 0.0), []]\n",
    "                end\n",
    "\n",
    "            end\n",
    "    \n",
    "        else \n",
    "            # return PseudoJet(0.0, 0.0, 0.0, 0.0)\n",
    "            return [PseudoJet(0.0, 0.0, 0.0, 0.0), []]\n",
    "        end\n",
    "\n",
    "    end\n",
    "\n",
    "end\n"
   ]
  },
  {
   "cell_type": "markdown",
   "metadata": {},
   "source": [
    "### Using JH Top Tagger"
   ]
  },
  {
   "cell_type": "code",
   "execution_count": 8,
   "metadata": {},
   "outputs": [
    {
     "name": "stdout",
     "output_type": "stream",
     "text": [
      "  0.000150 seconds (777 allocations: 115.469 KiB)\n",
      "1\tOriginal jet: pt = 26.130848232425834, eta = 3.406422621141889, phi = 2.6749116992524002, E = 394.5340289934504\n",
      "1\tTagged jet: pt = 0.0, eta = 0.0, phi = 0.0, E = 0.0\n",
      "\n",
      "2\tOriginal jet: pt = 2.125720970693987, eta = 2.418204608888067, phi = 2.6716158036886775, E = 12.163646946977643\n",
      "2\tTagged jet: pt = 0.0, eta = 0.0, phi = 0.0, E = 0.0\n",
      "\n",
      "3\tOriginal jet: pt = 2.0086398616206367, eta = -1.5974788148568575, phi = 5.05065699790494, E = 5.620447377513666\n",
      "3\tTagged jet: pt = 2.008639861620637, eta = -1.5974788148568575, phi = 5.05065699790494, E = 5.620447377513666\n",
      "\n",
      "4\tOriginal jet: pt = 4.373967011936128, eta = -0.245263138384402, phi = 1.46563570138571, E = 5.153599395423116\n",
      "4\tTagged jet: pt = 4.373967011936127, eta = -0.24526313838440209, phi = 1.46563570138571, E = 5.153599395423116\n",
      "\n",
      "5\tOriginal jet: pt = 12.586904469090056, eta = 1.7809156033724232, phi = 6.129839442886363, E = 39.341040840487125\n",
      "5\tTagged jet: pt = 12.019482608698311, eta = 1.7377047604888636, phi = 6.13176575112524, E = 35.84465856528449\n",
      "\n",
      "6\tOriginal jet: pt = 23.644026291439253, eta = -2.281369101018987, phi = 5.2711788682564675, E = 117.25517550003939\n",
      "6\tTagged jet: pt = 21.839237042821928, eta = -2.2119597132703017, phi = 5.282346879213109, E = 101.11724433623826\n",
      "\n",
      "7\tOriginal jet: pt = 2.1797449587738402, eta = -8.071068147143508, phi = 1.2704778599794635, E = 3488.158297453202\n",
      "7\tTagged jet: pt = 1.986731603795744, eta = -8.097398676240854, phi = 1.2342278849337605, E = 3264.1109282570164\n",
      "\n",
      "8\tOriginal jet: pt = 3.3439531295491505, eta = -1.9436688109037532, phi = 1.5352538003514755, E = 12.365725109089018\n",
      "8\tTagged jet: pt = 3.3439531295491505, eta = -1.9436688109037532, phi = 1.5352538003514755, E = 12.365725109089016\n",
      "\n",
      "9\tOriginal jet: pt = 2.48768233091831, eta = -0.8177598891625232, phi = 0.1329137506706785, E = 3.638587770333535\n",
      "9\tTagged jet: pt = 2.48768233091831, eta = -0.8177598891625232, phi = 0.1329137506706785, E = 3.638587770333535\n",
      "\n",
      "10\tOriginal jet: pt = 2.2464885078239303, eta = 1.7455644977280311, phi = 3.6063896578231613, E = 6.8811518878046405\n",
      "10\tTagged jet: pt = 2.2464885078239307, eta = 1.7455644977280311, phi = 3.6063896578231613, E = 6.88115188780464\n",
      "\n",
      "11\tOriginal jet: pt = 4.25496424823028, eta = 0.9892011098399706, phi = 2.4143391152495934, E = 6.983588271467695\n",
      "11\tTagged jet: pt = 4.25496424823028, eta = 0.9892011098399706, phi = 2.4143391152495934, E = 6.983588271467695\n",
      "\n"
     ]
    }
   ],
   "source": [
    "fullData = readFile(0)\n",
    "particles = loadParticles(fullData)\n",
    "\n",
    "@time data = makeJets(particles, 0, 1.0)\n",
    "# println(a)\n",
    "\n",
    "jht = JHTopTagger(0.1, 0.19, 0.7)\n",
    "count = 1\n",
    "\n",
    "ptmin = 2.0\n",
    "\n",
    "allJets = get_inclusive_jets(data, ptmin)\n",
    "taggedJets = Vector{PseudoJet}(undef, 0)\n",
    "allConstituents = []\n",
    "\n",
    "for jet in allJets\n",
    "    global count\n",
    "    trial, cons = apply_JHTagger(jet, data, jht);\n",
    "    push!(taggedJets, trial)\n",
    "    push!(allConstituents, cons)\n",
    "    println(count, \"\\tOriginal jet: pt = $(pt2(jet) ^ 0.5), eta = $(eta(jet)), phi = $(phi(jet)), E = $(jet.E)\")\n",
    "    println(count, \"\\tTagged jet: pt = $(pt2(trial) ^ 0.5), eta = $(eta(trial)), phi = $(phi(trial)), E = $(trial.E)\")\n",
    "    println()\n",
    "\n",
    "    count += 1\n",
    "end\n",
    "\n",
    "sort_jets!(taggedJets)\n",
    "\n",
    "open(\"./results/jhtop-julia.csv\", \"w\") do FILE\n",
    "    write(FILE, \"pt,eta,m\\n\")\n",
    "    for jet in taggedJets\n",
    "\n",
    "        if pt2(jet) > 0\n",
    "            final = jet\n",
    "            # println(pt2(final)^0.5,\"\\t\",sign(m2(final))*abs(m2(final))^0.5)\n",
    "            write(FILE, \"$(pt2(final)^0.5),$(eta(final)),$(sign(m2(final))*abs(m2(final))^0.5)\\n\")\n",
    "        end\n",
    "    end\n",
    "end"
   ]
  },
  {
   "cell_type": "markdown",
   "metadata": {},
   "source": [
    "### Benchmarking the different modules"
   ]
  },
  {
   "cell_type": "code",
   "execution_count": 21,
   "metadata": {},
   "outputs": [
    {
     "name": "stderr",
     "output_type": "stream",
     "text": [
      "\u001b[36m\u001b[1m[ \u001b[22m\u001b[39m\u001b[36m\u001b[1mInfo: \u001b[22m\u001b[39mTotal Events: 100\n"
     ]
    },
    {
     "name": "stdout",
     "output_type": "stream",
     "text": [
      "events-ee-Z.hepmc3\t43.05\t15\t10.114247999999993\n",
      "\n",
      "events-ee-H.hepmc3\t64.97\t15\t2.157544666666667\n",
      "\n"
     ]
    },
    {
     "name": "stderr",
     "output_type": "stream",
     "text": [
      "\u001b[36m\u001b[1m[ \u001b[22m\u001b[39m\u001b[36m\u001b[1mInfo: \u001b[22m\u001b[39mTotal Events: 100\n"
     ]
    },
    {
     "name": "stdout",
     "output_type": "stream",
     "text": [
      "events-pp-0.5TeV-5GeV.hepmc3\t112.62\t15\t5.840753333333335\n",
      "\n"
     ]
    },
    {
     "name": "stderr",
     "output_type": "stream",
     "text": [
      "\u001b[36m\u001b[1m[ \u001b[22m\u001b[39m\u001b[36m\u001b[1mInfo: \u001b[22m\u001b[39mTotal Events: 100\n"
     ]
    },
    {
     "name": "stdout",
     "output_type": "stream",
     "text": [
      "events-pp-1TeV-5GeV.hepmc3\t160.36\t15\t8.063460666666666\n",
      "\n"
     ]
    },
    {
     "name": "stderr",
     "output_type": "stream",
     "text": [
      "\u001b[36m\u001b[1m[ \u001b[22m\u001b[39m\u001b[36m\u001b[1mInfo: \u001b[22m\u001b[39mTotal Events: 100\n"
     ]
    },
    {
     "name": "stdout",
     "output_type": "stream",
     "text": [
      "events-pp-2TeV-5GeV.hepmc3\t188.21\t15\t9.400320666666667\n",
      "\n"
     ]
    },
    {
     "name": "stderr",
     "output_type": "stream",
     "text": [
      "\u001b[36m\u001b[1m[ \u001b[22m\u001b[39m\u001b[36m\u001b[1mInfo: \u001b[22m\u001b[39mTotal Events: 100\n"
     ]
    },
    {
     "name": "stdout",
     "output_type": "stream",
     "text": [
      "events-pp-1TeV.hepmc3\t226.98\t15\t10.677296000000002\n",
      "\n"
     ]
    },
    {
     "name": "stderr",
     "output_type": "stream",
     "text": [
      "\u001b[36m\u001b[1m[ \u001b[22m\u001b[39m\u001b[36m\u001b[1mInfo: \u001b[22m\u001b[39mTotal Events: 100\n"
     ]
    },
    {
     "name": "stdout",
     "output_type": "stream",
     "text": [
      "events-pp-2TeV.hepmc3\t226.98\t15\t10.315200000000003\n",
      "\n"
     ]
    },
    {
     "name": "stderr",
     "output_type": "stream",
     "text": [
      "\u001b[36m\u001b[1m[ \u001b[22m\u001b[39m\u001b[36m\u001b[1mInfo: \u001b[22m\u001b[39mTotal Events: 100\n",
      "\u001b[36m\u001b[1m[ \u001b[22m\u001b[39m\u001b[36m\u001b[1mInfo: \u001b[22m\u001b[39mTotal Events: 100\n"
     ]
    },
    {
     "name": "stdout",
     "output_type": "stream",
     "text": [
      "events-pp-5TeV-10GeV.hepmc3\t284.15\t15\t55.90792866666668\n",
      "\n"
     ]
    },
    {
     "name": "stderr",
     "output_type": "stream",
     "text": [
      "\u001b[36m\u001b[1m[ \u001b[22m\u001b[39m\u001b[36m\u001b[1mInfo: \u001b[22m\u001b[39mTotal Events: 100\n"
     ]
    },
    {
     "name": "stdout",
     "output_type": "stream",
     "text": [
      "events-pp-8TeV-20GeV.hepmc3\t354.18\t15\t16.038183999999998\n",
      "\n"
     ]
    },
    {
     "name": "stderr",
     "output_type": "stream",
     "text": [
      "\u001b[36m\u001b[1m[ \u001b[22m\u001b[39m\u001b[36m\u001b[1mInfo: \u001b[22m\u001b[39mTotal Events: 100\n"
     ]
    },
    {
     "name": "stdout",
     "output_type": "stream",
     "text": [
      "events-pp-13TeV-20GeV.hepmc\t431.18\t15\t18.875421999999997\n",
      "\n"
     ]
    },
    {
     "name": "stderr",
     "output_type": "stream",
     "text": [
      "\u001b[36m\u001b[1m[ \u001b[22m\u001b[39m\u001b[36m\u001b[1mInfo: \u001b[22m\u001b[39mTotal Events: 100\n"
     ]
    },
    {
     "name": "stdout",
     "output_type": "stream",
     "text": [
      "events-pp-20TeV-20GeV.hepmc3\t524.59\t15\t24.47176066666667\n",
      "\n"
     ]
    },
    {
     "name": "stderr",
     "output_type": "stream",
     "text": [
      "\u001b[36m\u001b[1m[ \u001b[22m\u001b[39m\u001b[36m\u001b[1mInfo: \u001b[22m\u001b[39mTotal Events: 100\n"
     ]
    },
    {
     "name": "stdout",
     "output_type": "stream",
     "text": [
      "events-pp-20TeV-50GeV.hepmc3\t553.64\t15\t22.439842666666667\n",
      "\n"
     ]
    },
    {
     "name": "stderr",
     "output_type": "stream",
     "text": [
      "\u001b[36m\u001b[1m[ \u001b[22m\u001b[39m\u001b[36m\u001b[1mInfo: \u001b[22m\u001b[39mTotal Events: 100\n"
     ]
    },
    {
     "name": "stdout",
     "output_type": "stream",
     "text": [
      "events-pp-30TeV-50GeV.hepmc3\t632.29\t15\t25.783572\n",
      "\n"
     ]
    }
   ],
   "source": [
    "trials = 15\n",
    "\n",
    "fileName = [\"events-ee-Z.hepmc3\", \"events-ee-H.hepmc3\", \"events-pp-0.5TeV-5GeV.hepmc3\", \"events-pp-1TeV-5GeV.hepmc3\", \"events-pp-2TeV-5GeV.hepmc3\", \"events-pp-1TeV.hepmc3\", \"events-pp-2TeV.hepmc3\", \"events-pp-5TeV-10GeV.hepmc3\", \"events-pp-8TeV-20GeV.hepmc3\", \"events-pp-13TeV-20GeV.hepmc\", \"events-pp-20TeV-20GeV.hepmc3\", \"events-pp-20TeV-50GeV.hepmc3\", \"events-pp-30TeV-50GeV.hepmc3\"];\n",
    "\n",
    "open(\"./results/time-jhtop-julia.csv\", \"w\") do FILE\n",
    "    write(FILE, \"FileName,mean_particles,n_samples,time_per_event\\n\")\n",
    "    for eventFILE in fileName\n",
    "        allEvents = read_final_state_particles(\"./benchmarks/data/$eventFILE\")\n",
    "        avgTime = 0.0\n",
    "\n",
    "        for j in 1:trials\n",
    "            TIME = 0.0\n",
    "            global numCounts = 0\n",
    "            for i in 1:100\n",
    "                numCounts += length(allEvents[i])\n",
    "\n",
    "                cluster = makeJets(allEvents[i], 1.0)\n",
    "                allJets = get_inclusive_jets(cluster, 2.0)\n",
    "                \n",
    "                # mdt = MassDropTagger(0.67, 0.09)\n",
    "                # TIME += @elapsed (tagged = [apply_massdrop(jet, cluster, mdt) for jet in allJets])\n",
    "                \n",
    "                # sdt = SoftDropTagger(0.1, 2.0)\n",
    "                # TIME += @elapsed (tagged = [apply_softdrop(jet, cluster, sdt) for jet in allJets])\n",
    "\n",
    "                # filter = Filter(0.3, 3)\n",
    "                # TIME += @elapsed (filtered = [apply_filter(jet, cluster, filter) for jet in allJets])\n",
    "\n",
    "                # trim = Trim(0.3, 0.3, 0)\n",
    "                # TIME += @elapsed (trimmed = [apply_trim(jet, cluster, trim) for jet in allJets])\n",
    "                \n",
    "                F = JHTopTagger(0.1, 0.19, 0.7);\n",
    "                TIME += @elapsed (filtered = [apply_JHTagger(jet, cluster, F) for jet in allJets])\n",
    "            \n",
    "            end\n",
    "            avgTime += TIME\n",
    "\n",
    "            numCounts /= 100 \n",
    "        end\n",
    "\n",
    "        avgTime /= trials\n",
    "\n",
    "        println(\"$eventFILE\\t$(numCounts)\\t$(trials)\\t$(avgTime*10^4)\\n\")\n",
    "        write(FILE, \"$eventFILE,$(numCounts),$(trials),$(avgTime*10^4)\\n\")\n",
    "        # print(i, \"\\t\", avgTime)\n",
    "\n",
    "    end\n",
    "end"
   ]
  }
 ],
 "metadata": {
  "kernelspec": {
   "display_name": "Julia 1.11.1",
   "language": "julia",
   "name": "julia-1.11"
  },
  "language_info": {
   "file_extension": ".jl",
   "mimetype": "application/julia",
   "name": "julia",
   "version": "1.11.1"
  }
 },
 "nbformat": 4,
 "nbformat_minor": 2
}
