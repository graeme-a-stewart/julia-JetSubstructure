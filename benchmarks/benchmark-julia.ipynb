{
 "cells": [
  {
   "cell_type": "code",
   "execution_count": 54,
   "metadata": {},
   "outputs": [
    {
     "data": {
      "text/plain": [
       "main (generic function with 1 method)"
      ]
     },
     "metadata": {},
     "output_type": "display_data"
    }
   ],
   "source": [
    "using LorentzVectorHEP\n",
    "using JetReconstruction\n",
    "using Plots\n",
    "using DelimitedFiles\n",
    "\n",
    "\n",
    "function makeJets(data::Vector{PseudoJet})\n",
    "    finaljets = jet_reconstruct(data; p = -1, R = 0.4, recombine = +, strategy = RecoStrategy.N2Plain)\n",
    "\n",
    "    finaljets\n",
    "end\n"
   ]
  },
  {
   "cell_type": "code",
   "execution_count": 22,
   "metadata": {},
   "outputs": [],
   "source": [
    "fileName = [\"events-ee-Z.hepmc3\", \"events-ee-H.hepmc3\", \"events-pp-0.5TeV-5GeV.hepmc3\", \"events-pp-1TeV-5GeV.hepmc3\", \"events-pp-2TeV-5GeV.hepmc3\", \"events-pp-1TeV.hepmc3\", \"events-pp-2TeV.hepmc3\", \"events-pp-5TeV-10GeV.hepmc3\", \"events-pp-8TeV-20GeV.hepmc3\", \"events-pp-13TeV-20GeV.hepmc\", \"events-pp-20TeV-20GeV.hepmc3\", \"events-pp-20TeV-50GeV.hepmc3\", \"events-pp-30TeV-50GeV.hepmc3\"];"
   ]
  },
  {
   "cell_type": "code",
   "execution_count": 55,
   "metadata": {},
   "outputs": [
    {
     "name": "stderr",
     "output_type": "stream",
     "text": [
      "┌ Info: Total Events: 100\n",
      "└ @ JetReconstruction /Users/sattwamoghosh/.julia/packages/JetReconstruction/1oFH5/src/Utils.jl:39\n",
      "┌ Info: Total Events: 100\n",
      "└ @ JetReconstruction /Users/sattwamoghosh/.julia/packages/JetReconstruction/1oFH5/src/Utils.jl:39\n",
      "┌ Info: Total Events: 100\n",
      "└ @ JetReconstruction /Users/sattwamoghosh/.julia/packages/JetReconstruction/1oFH5/src/Utils.jl:39\n",
      "┌ Info: Total Events: 100\n",
      "└ @ JetReconstruction /Users/sattwamoghosh/.julia/packages/JetReconstruction/1oFH5/src/Utils.jl:39\n",
      "┌ Info: Total Events: 100\n",
      "└ @ JetReconstruction /Users/sattwamoghosh/.julia/packages/JetReconstruction/1oFH5/src/Utils.jl:39\n",
      "┌ Info: Total Events: 100\n",
      "└ @ JetReconstruction /Users/sattwamoghosh/.julia/packages/JetReconstruction/1oFH5/src/Utils.jl:39\n",
      "┌ Info: Total Events: 100\n",
      "└ @ JetReconstruction /Users/sattwamoghosh/.julia/packages/JetReconstruction/1oFH5/src/Utils.jl:39\n",
      "┌ Info: Total Events: 100\n",
      "└ @ JetReconstruction /Users/sattwamoghosh/.julia/packages/JetReconstruction/1oFH5/src/Utils.jl:39\n",
      "┌ Info: Total Events: 100\n",
      "└ @ JetReconstruction /Users/sattwamoghosh/.julia/packages/JetReconstruction/1oFH5/src/Utils.jl:39\n",
      "┌ Info: Total Events: 100\n",
      "└ @ JetReconstruction /Users/sattwamoghosh/.julia/packages/JetReconstruction/1oFH5/src/Utils.jl:39\n",
      "┌ Info: Total Events: 100\n",
      "└ @ JetReconstruction /Users/sattwamoghosh/.julia/packages/JetReconstruction/1oFH5/src/Utils.jl:39\n",
      "┌ Info: Total Events: 100\n",
      "└ @ JetReconstruction /Users/sattwamoghosh/.julia/packages/JetReconstruction/1oFH5/src/Utils.jl:39\n",
      "┌ Info: Total Events: 100\n",
      "└ @ JetReconstruction /Users/sattwamoghosh/.julia/packages/JetReconstruction/1oFH5/src/Utils.jl:39\n"
     ]
    }
   ],
   "source": [
    "trials = 32\n",
    "\n",
    "open(\"./results/time_julia_plain.csv\", \"w\") do FILE\n",
    "    write(FILE, \"FileName,mean_particles,n_samples,time_per_event\\n\")\n",
    "    for eventFILE in fileName\n",
    "        allEvents = read_final_state_particles(\"./data/$eventFILE\")\n",
    "        avgTime = 0.0\n",
    "\n",
    "        for j in 1:trials\n",
    "            global counts = 0\n",
    "            for i in 1:100\n",
    "                counts += length(allEvents[i])\n",
    "                TIME = @elapsed cluster = makeJets(allEvents[i])\n",
    "            \n",
    "            avgTime += TIME\n",
    "            end\n",
    "\n",
    "            counts /= 100 \n",
    "        end\n",
    "\n",
    "        avgTime /= trials\n",
    "        write(FILE, \"$eventFILE,$(counts),$(trials),$(avgTime*10^4)\\n\")\n",
    "\n",
    "\n",
    "    end\n",
    "end"
   ]
  }
 ],
 "metadata": {
  "kernelspec": {
   "display_name": "Julia 1.10.3",
   "language": "julia",
   "name": "julia-1.10"
  },
  "language_info": {
   "file_extension": ".jl",
   "mimetype": "application/julia",
   "name": "julia",
   "version": "1.10.3"
  }
 },
 "nbformat": 4,
 "nbformat_minor": 2
}
