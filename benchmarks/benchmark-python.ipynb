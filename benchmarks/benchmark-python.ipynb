{
 "cells": [
  {
   "cell_type": "code",
   "execution_count": 6,
   "metadata": {},
   "outputs": [],
   "source": [
    "import fastjet as fj\n",
    "import time\n",
    "import pyhepmc"
   ]
  },
  {
   "cell_type": "code",
   "execution_count": 7,
   "metadata": {},
   "outputs": [],
   "source": [
    "def makeJets(data, R):\n",
    "    jet_def = fj.JetDefinition(fj.cambridge_aachen_algorithm, R)\n",
    "    jet_cluster = fj.ClusterSequence(data, jet_def)\n",
    "\n",
    "    return jet_cluster"
   ]
  },
  {
   "cell_type": "code",
   "execution_count": 8,
   "metadata": {},
   "outputs": [],
   "source": [
    "def read_hepmc_file(FILE):\n",
    "    total = []\n",
    "    with pyhepmc.open(f\"./data/{FILE}\", \"r\") as f:\n",
    "        \n",
    "        for i, event in enumerate(f):\n",
    "            particles = []\n",
    "            for j, particle in enumerate(event.particles):\n",
    "                if particle.status == 1: \n",
    "                # Access particle properties such as momentum, energy, etc.\n",
    "                # print(particle.momentum.px)\n",
    "                    px, py, pz = particle.momentum.px, particle.momentum.py, particle.momentum.pz\n",
    "                    energy = particle.momentum.e\n",
    "\n",
    "                    particles.append(fj.PseudoJet(px, py, pz, energy))\n",
    "            total.append(particles)\n",
    "\n",
    "    return total"
   ]
  },
  {
   "cell_type": "code",
   "execution_count": 9,
   "metadata": {},
   "outputs": [],
   "source": [
    "fileName = [\"events-ee-Z.hepmc3\", \"events-ee-H.hepmc3\", \\\n",
    "                \"events-pp-0.5TeV-5GeV.hepmc3\", \"events-pp-1TeV-5GeV.hepmc3\",\\\n",
    "                \"events-pp-2TeV-5GeV.hepmc3\", \"events-pp-2TeV.hepmc3\",\\\n",
    "                \"events-pp-5TeV-10GeV.hepmc3\", \"events-pp-8TeV-20GeV.hepmc3\",\\\n",
    "                \"events-pp-13TeV-20GeV.hepmc\", \"events-pp-20TeV-20GeV.hepmc3\", \"events-pp-20TeV-50GeV.hepmc3\",\\\n",
    "                \"events-pp-30TeV-50GeV.hepmc3\"]"
   ]
  },
  {
   "cell_type": "code",
   "execution_count": 10,
   "metadata": {},
   "outputs": [
    {
     "name": "stdout",
     "output_type": "stream",
     "text": [
      "#--------------------------------------------------------------------------\n",
      "#                         FastJet release 3.4.0\n",
      "#                 M. Cacciari, G.P. Salam and G. Soyez                  \n",
      "#     A software package for jet finding and analysis at colliders      \n",
      "#                           http://fastjet.fr                           \n",
      "#\t                                                                      \n",
      "# Please cite EPJC72(2012)1896 [arXiv:1111.6097] if you use this package\n",
      "# for scientific work and optionally PLB641(2006)57 [hep-ph/0512210].   \n",
      "#                                                                       \n",
      "# FastJet is provided without warranty under the GNU GPL v2 or higher.  \n",
      "# It uses T. Chan's closest pair algorithm, S. Fortune's Voronoi code,\n",
      "# CGAL and 3rd party plugin jet algorithms. See COPYING file for details.\n",
      "#--------------------------------------------------------------------------\n",
      "events-ee-Z.hepmc3\t43.05\t16\t22.349655628204346\n",
      "\n",
      "events-ee-H.hepmc3\t64.97\t16\t32.63399004936218\n",
      "\n",
      "events-pp-0.5TeV-5GeV.hepmc3\t112.62\t16\t40.55246710777283\n",
      "\n",
      "events-pp-1TeV-5GeV.hepmc3\t160.36\t16\t59.95318293571472\n",
      "\n",
      "events-pp-2TeV-5GeV.hepmc3\t188.21\t16\t73.88070225715637\n",
      "\n",
      "events-pp-2TeV.hepmc3\t226.98\t16\t96.89435362815857\n",
      "\n",
      "events-pp-5TeV-10GeV.hepmc3\t284.15\t16\t125.32010674476624\n",
      "\n",
      "events-pp-8TeV-20GeV.hepmc3\t354.18\t16\t171.40254378318787\n",
      "\n",
      "events-pp-13TeV-20GeV.hepmc\t431.18\t16\t219.65831518173218\n",
      "\n",
      "events-pp-20TeV-20GeV.hepmc3\t524.59\t16\t280.70390224456787\n",
      "\n",
      "events-pp-20TeV-50GeV.hepmc3\t553.64\t16\t308.6121380329132\n",
      "\n",
      "events-pp-30TeV-50GeV.hepmc3\t632.29\t16\t356.3731908798218\n",
      "\n"
     ]
    }
   ],
   "source": [
    "trials = 16\n",
    "\n",
    "with open(\"./results/time_python_plain.csv\", \"w\") as FILE:\n",
    "    FILE.write(\"FileName,mean_particles,n_samples,time_per_event\\n\")\n",
    "    for eventFILE in fileName:\n",
    "        allEvents = read_hepmc_file(eventFILE)\n",
    "\n",
    "        avgTime = 0.0\n",
    "        for j in range(trials):\n",
    "            \n",
    "            count = 0\n",
    "            start = time.time()\n",
    "            for i in range(100):\n",
    "                count += len(allEvents[i])\n",
    "                # cluster = makeJets(allEvents[i], 0.4, fj.N2Plain)\n",
    "                cluster = makeJets(allEvents[i], 0.4)\n",
    "            \n",
    "            end = time.time() - start\n",
    "            avgTime += end\n",
    "\n",
    "            # count += len(particle_data)\n",
    "        avgTime /= trials\n",
    "\n",
    "        print(f\"{eventFILE}\\t{count/100}\\t{trials}\\t{avgTime*10**4}\\n\")\n",
    "        FILE.write(f\"{eventFILE},{count/100},{trials},{avgTime*10**4}\\n\")\n"
   ]
  },
  {
   "cell_type": "code",
   "execution_count": null,
   "metadata": {},
   "outputs": [
    {
     "name": "stdout",
     "output_type": "stream",
     "text": [
      "events-ee-Z.hepmc3\t2.67\t64\t2.1554780810066823\t1.9004282433441961\t0.9821511609723952\n",
      "\n",
      "events-ee-H.hepmc3\t3.04\t64\t2.2490704922299636\t1.9737298747426586\t1.0078503309111846\n",
      "\n",
      "events-pp-0.5TeV-5GeV.hepmc3\t6.68\t64\t2.1607241409267495\t1.9594636595177792\t0.8524724555586627\n",
      "\n",
      "events-pp-1TeV-5GeV.hepmc3\t9.53\t64\t2.2639679758646305\t2.0529203124711795\t0.8401839142706312\n",
      "\n",
      "events-pp-2TeV-5GeV.hepmc3\t11.24\t64\t2.2849286790420154\t2.0686265253511613\t0.8358073245163914\n",
      "\n",
      "events-pp-2TeV.hepmc3\t12.35\t64\t2.461165069085866\t2.2407998198922345\t0.8735066724692279\n",
      "\n",
      "events-pp-5TeV-10GeV.hepmc3\t17.08\t64\t2.380155149053355\t2.152650710849628\t0.826722181094614\n",
      "\n",
      "events-pp-8TeV-20GeV.hepmc3\t18.89\t64\t2.498796151516108\t2.2685420519463784\t0.8420437937252354\n",
      "\n",
      "events-pp-13TeV-20GeV.hepmc\t23.33\t64\t2.526861375562633\t2.3105741824605053\t0.8368841502168789\n",
      "\n",
      "events-pp-20TeV-20GeV.hepmc3\t27.6\t64\t2.5452991974526555\t2.329842443915381\t0.8276137320891671\n",
      "\n",
      "events-pp-20TeV-50GeV.hepmc3\t26.32\t64\t2.5958451230112907\t2.36061398834443\t0.8531311090956343\n",
      "\n",
      "events-pp-30TeV-50GeV.hepmc3\t29.7\t64\t2.648601126590562\t2.4291438988162213\t0.852638673702073\n",
      "\n"
     ]
    }
   ],
   "source": [
    "trials = 64\n",
    "with open(\"./results/time-python-substructure.csv\", \"w\") as FILE:\n",
    "    FILE.write(\"FileName,mean_particles,n_samples,filter_time,trimming_time,massdrop_time\\n\")\n",
    "    total_filter = total_trim = total_softdrop = total_massdrop = 0.0\n",
    "    total_count = 0\n",
    "\n",
    "    for eventFILE in fileName:\n",
    "        allEvents = read_hepmc_file(eventFILE)\n",
    "\n",
    "        avgTime = 0.0\n",
    "        avg_filter_time = 0.0\n",
    "        avg_trimming_time = 0.0\n",
    "        avg_massdrop_time = 0.0\n",
    "\n",
    "        n_events = 100\n",
    "        \n",
    "        for j in range(trials):\n",
    "\n",
    "            count = 0\n",
    "            \n",
    "            for i in range(n_events):\n",
    "                cluster = makeJets(allEvents[i], 1.0)\n",
    "                jets = cluster.inclusive_jets(2.0)\n",
    "                count += len(jets)\n",
    "                # mu = 0.67\n",
    "                # ycut = 0.09\n",
    "                mass_drop_tagger = fj.MassDropTagger(0.67, 0.09)\n",
    "                start = time.time()\n",
    "                final_jets = [mass_drop_tagger(jet) for jet in jets]\n",
    "                end = time.time()\n",
    "                avg_massdrop_time += (end - start) * 10**6\n",
    "\n",
    "                filtering = fj.Filter(fj.JetDefinition(fj.cambridge_algorithm, 0.3), fj.SelectorNHardest(3))\n",
    "                start = time.time()\n",
    "                final_jets = [filtering(jet) for jet in jets]\n",
    "                end = time.time()\n",
    "                avg_filter_time += (end - start) * 10**6\n",
    "\n",
    "                trimming = fj.Filter(fj.JetDefinition(fj.cambridge_algorithm, 0.3), fj.SelectorPtFractionMin(0.3))\n",
    "                start = time.time()\n",
    "                final_jets = [trimming(jet) for jet in jets]\n",
    "                end = time.time()\n",
    "                avg_trimming_time += (end - start) * 10**6\n",
    "\n",
    "                # JH_tagger = fj.JHTopTagger(0.1, 0.19, 0.7, 80.4)\n",
    "                # start = time.time()\n",
    "                # final_jets = [JH_tagger(jet) for jet in jets]                \n",
    "                # end = time.time() - start\n",
    "\n",
    "        total_filter += avg_filter_time\n",
    "        total_massdrop += avg_massdrop_time\n",
    "        total_trim += avg_trimming_time\n",
    "        total_count += count\n",
    "\n",
    "        avg_massdrop_time /= (trials * count)\n",
    "        avg_filter_time /= (trials * count)\n",
    "        avg_trimming_time /= (trials * count)\n",
    "\n",
    "        print(f\"{eventFILE}\\t{count/100}\\t{trials}\\t{avg_filter_time}\\t{avg_trimming_time}\\t{avg_massdrop_time}\\n\")\n",
    "        FILE.write(f\"{eventFILE},{count/100},{trials},{avg_filter_time},{avg_trimming_time},{avg_massdrop_time}\\n\")"
   ]
  },
  {
   "cell_type": "code",
   "execution_count": 15,
   "metadata": {},
   "outputs": [
    {
     "name": "stdout",
     "output_type": "stream",
     "text": [
      "18843\n",
      "Filter: 2.4875172737177054\n",
      "Trim: 2.264816560911245\n",
      "Massdrop: 0.8477472100599249\n"
     ]
    }
   ],
   "source": [
    "print(f\"{total_count}\")\n",
    "print(f\"Filter: {total_filter/(total_count*trials)}\")\n",
    "print(f\"Trim: {total_trim/(total_count*trials)}\")\n",
    "print(f\"Massdrop: {total_massdrop/(total_count*trials)}\")"
   ]
  },
  {
   "cell_type": "code",
   "execution_count": null,
   "metadata": {},
   "outputs": [],
   "source": []
  }
 ],
 "metadata": {
  "kernelspec": {
   "display_name": "fastjet",
   "language": "python",
   "name": "python3"
  },
  "language_info": {
   "codemirror_mode": {
    "name": "ipython",
    "version": 3
   },
   "file_extension": ".py",
   "mimetype": "text/x-python",
   "name": "python",
   "nbconvert_exporter": "python",
   "pygments_lexer": "ipython3",
   "version": "3.12.9"
  }
 },
 "nbformat": 4,
 "nbformat_minor": 2
}
