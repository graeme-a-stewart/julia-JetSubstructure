{
 "cells": [
  {
   "cell_type": "code",
   "execution_count": 1,
   "metadata": {},
   "outputs": [],
   "source": [
    "import fastjet as fj\n",
    "import time\n",
    "import pyhepmc"
   ]
  },
  {
   "cell_type": "code",
   "execution_count": 7,
   "metadata": {},
   "outputs": [],
   "source": [
    "def makeJets(data, R):\n",
    "    jet_def = fj.JetDefinition(fj.cambridge_aachen_algorithm, R)\n",
    "    jet_cluster = fj.ClusterSequence(data, jet_def)\n",
    "\n",
    "    return jet_cluster"
   ]
  },
  {
   "cell_type": "code",
   "execution_count": 3,
   "metadata": {},
   "outputs": [],
   "source": [
    "def read_hepmc_file(FILE):\n",
    "    total = []\n",
    "    with pyhepmc.open(f\"./data/{FILE}\", \"r\") as f:\n",
    "        \n",
    "        for i, event in enumerate(f):\n",
    "            particles = []\n",
    "            for j, particle in enumerate(event.particles):\n",
    "                if particle.status == 1: \n",
    "                # Access particle properties such as momentum, energy, etc.\n",
    "                # print(particle.momentum.px)\n",
    "                    px, py, pz = particle.momentum.px, particle.momentum.py, particle.momentum.pz\n",
    "                    energy = particle.momentum.e\n",
    "\n",
    "                    particles.append(fj.PseudoJet(px, py, pz, energy))\n",
    "            total.append(particles)\n",
    "\n",
    "    return total"
   ]
  },
  {
   "cell_type": "code",
   "execution_count": 4,
   "metadata": {},
   "outputs": [],
   "source": [
    "fileName = [\"events-ee-Z.hepmc3\", \"events-ee-H.hepmc3\", \\\n",
    "                \"events-pp-0.5TeV-5GeV.hepmc3\", \"events-pp-1TeV-5GeV.hepmc3\",\\\n",
    "                \"events-pp-2TeV-5GeV.hepmc3\", \"events-pp-1TeV.hepmc3\", \"events-pp-2TeV.hepmc3\",\\\n",
    "                \"events-pp-5TeV-10GeV.hepmc3\", \"events-pp-8TeV-20GeV.hepmc3\",\\\n",
    "                \"events-pp-13TeV-20GeV.hepmc\", \"events-pp-20TeV-20GeV.hepmc3\", \"events-pp-20TeV-50GeV.hepmc3\",\\\n",
    "                \"events-pp-30TeV-50GeV.hepmc3\"]"
   ]
  },
  {
   "cell_type": "code",
   "execution_count": 93,
   "metadata": {},
   "outputs": [
    {
     "name": "stdout",
     "output_type": "stream",
     "text": [
      "events-ee-Z.hepmc3\t43.05\t16\t66.29317998886108\n",
      "\n",
      "events-ee-H.hepmc3\t64.97\t16\t107.51619935035706\n",
      "\n",
      "events-pp-0.5TeV-5GeV.hepmc3\t112.62\t16\t555.4723739624023\n",
      "\n",
      "events-pp-1TeV-5GeV.hepmc3\t160.36\t16\t1118.127554655075\n",
      "\n",
      "events-pp-2TeV-5GeV.hepmc3\t188.21\t16\t1537.9343926906586\n",
      "\n",
      "events-pp-1TeV.hepmc3\t226.98\t16\t1639.4996643066406\n",
      "\n",
      "events-pp-2TeV.hepmc3\t226.98\t16\t1643.0480778217316\n",
      "\n",
      "events-pp-5TeV-10GeV.hepmc3\t284.15\t16\t2642.2417163848877\n",
      "\n",
      "events-pp-8TeV-20GeV.hepmc3\t354.18\t16\t3621.6507852077484\n",
      "\n",
      "events-pp-13TeV-20GeV.hepmc\t431.18\t16\t5136.139839887619\n",
      "\n",
      "events-pp-20TeV-20GeV.hepmc3\t524.59\t16\t6977.768391370773\n",
      "\n",
      "events-pp-20TeV-50GeV.hepmc3\t553.64\t16\t7087.072134017944\n",
      "\n",
      "events-pp-30TeV-50GeV.hepmc3\t632.29\t16\t8945.840299129486\n",
      "\n"
     ]
    }
   ],
   "source": [
    "trials = 16\n",
    "\n",
    "with open(\"./results/time_python_plain.csv\", \"w\") as FILE:\n",
    "    FILE.write(\"FileName,mean_particles,n_samples,time_per_event\\n\")\n",
    "    for eventFILE in fileName:\n",
    "        allEvents = read_hepmc_file(eventFILE)\n",
    "\n",
    "        avgTime = 0.0\n",
    "        for j in range(trials):\n",
    "            \n",
    "            count = 0\n",
    "            start = time.time()\n",
    "            for i in range(100):\n",
    "                count += len(allEvents[i])\n",
    "                cluster = makeJets(allEvents[i], 0.4, fj.N2Plain)\n",
    "            \n",
    "            end = time.time() - start\n",
    "            avgTime += end\n",
    "\n",
    "            # count += len(particle_data)\n",
    "        avgTime /= trials\n",
    "\n",
    "        print(f\"{eventFILE}\\t{count/100}\\t{trials}\\t{avgTime*10**4}\\n\")\n",
    "        FILE.write(f\"{eventFILE},{count/100},{trials},{avgTime*10**4}\\n\")\n"
   ]
  },
  {
   "cell_type": "code",
   "execution_count": 10,
   "metadata": {},
   "outputs": [
    {
     "name": "stdout",
     "output_type": "stream",
     "text": [
      "events-ee-Z.hepmc3\t43.05\t16\t14.56528902053833\t13.60669732093811\t5.011856555938721\n",
      "\n",
      "events-ee-H.hepmc3\t64.97\t16\t17.2482430934906\t15.836209058761597\t5.757510662078857\n",
      "\n",
      "events-pp-0.5TeV-5GeV.hepmc3\t112.62\t16\t38.07276487350464\t35.53956747055054\t10.997653007507324\n",
      "\n",
      "events-pp-1TeV-5GeV.hepmc3\t160.36\t16\t55.45705556869507\t52.48740315437317\t15.67155122756958\n",
      "\n",
      "events-pp-2TeV-5GeV.hepmc3\t188.21\t16\t67.606121301651\t63.40056657791138\t18.741637468338013\n",
      "\n",
      "events-pp-1TeV.hepmc3\t226.98\t16\t75.08590817451477\t70.65460085868835\t20.175427198410034\n",
      "\n",
      "events-pp-2TeV.hepmc3\t226.98\t16\t76.04971528053284\t71.44778966903687\t20.581036806106567\n",
      "\n",
      "events-pp-5TeV-10GeV.hepmc3\t284.15\t16\t106.12621903419495\t99.56702589988708\t28.071850538253784\n",
      "\n",
      "events-pp-8TeV-20GeV.hepmc3\t354.18\t16\t117.90469288825989\t110.88907718658447\t30.665993690490723\n",
      "\n",
      "events-pp-13TeV-20GeV.hepmc\t431.18\t16\t146.39884233474731\t139.13512229919434\t41.59405827522278\n",
      "\n",
      "events-pp-20TeV-20GeV.hepmc3\t524.59\t16\t238.80288004875183\t197.11166620254517\t53.669363260269165\n",
      "\n",
      "events-pp-20TeV-50GeV.hepmc3\t553.64\t16\t192.2832429409027\t187.81155347824097\t48.61876368522644\n",
      "\n",
      "events-pp-30TeV-50GeV.hepmc3\t632.29\t16\t230.55702447891235\t197.96088337898254\t57.68150091171265\n",
      "\n"
     ]
    }
   ],
   "source": [
    "trials = 16\n",
    "with open(\"./results/time-python-substructure.csv\", \"w\") as FILE:\n",
    "    FILE.write(\"FileName,mean_particles,n_samples,filter_time,trimming_time,massdrop_time\\n\")\n",
    "    for eventFILE in fileName:\n",
    "        allEvents = read_hepmc_file(eventFILE)\n",
    "\n",
    "        avgTime = 0.0\n",
    "        avg_filter_time = 0.0\n",
    "        avg_trimming_time = 0.0\n",
    "        avg_massdrop_time = 0.0\n",
    "        \n",
    "        for j in range(trials):\n",
    "\n",
    "            count = 0\n",
    "            \n",
    "            for i in range(100):\n",
    "                count += len(allEvents[i])\n",
    "                cluster = makeJets(allEvents[i], 1.0)\n",
    "                jets = cluster.inclusive_jets(2.0)\n",
    "                # mu = 0.67\n",
    "                # ycut = 0.09\n",
    "                mass_drop_tagger = fj.MassDropTagger(0.67, 0.09)\n",
    "                start = time.time()\n",
    "                final_jets = [mass_drop_tagger(jet) for jet in jets]\n",
    "                end = time.time()\n",
    "                avg_massdrop_time += end - start\n",
    "\n",
    "                filtering = fj.Filter(fj.JetDefinition(fj.cambridge_algorithm, 0.3), fj.SelectorNHardest(3))\n",
    "                start = time.time()\n",
    "                final_jets = [filtering(jet) for jet in jets]\n",
    "                end = time.time()\n",
    "                avg_filter_time += end - start\n",
    "\n",
    "                trimming = fj.Filter(fj.JetDefinition(fj.cambridge_algorithm, 0.3), fj.SelectorPtFractionMin(0.3))\n",
    "                start = time.time()\n",
    "                final_jets = [trimming(jet) for jet in jets]\n",
    "                end = time.time()\n",
    "                avg_trimming_time += end - start\n",
    "\n",
    "                # JH_tagger = fj.JHTopTagger(0.1, 0.19, 0.7, 80.4)\n",
    "                # start = time.time()\n",
    "                # final_jets = [JH_tagger(jet) for jet in jets]                \n",
    "                # end = time.time() - start\n",
    "\n",
    "\n",
    "        avg_massdrop_time /= trials\n",
    "        avg_filter_time /= trials\n",
    "        avg_trimming_time /= trials\n",
    "\n",
    "        print(f\"{eventFILE}\\t{count/100}\\t{trials}\\t{avg_filter_time*10**4}\\t{avg_trimming_time*10**4}\\t{avg_massdrop_time*10**4}\\n\")\n",
    "        FILE.write(f\"{eventFILE},{count/100},{trials},{avg_filter_time*10**4},{avg_trimming_time*10**4},{avg_massdrop_time*10**4}\\n\")"
   ]
  }
 ],
 "metadata": {
  "kernelspec": {
   "display_name": "base",
   "language": "python",
   "name": "python3"
  },
  "language_info": {
   "codemirror_mode": {
    "name": "ipython",
    "version": 3
   },
   "file_extension": ".py",
   "mimetype": "text/x-python",
   "name": "python",
   "nbconvert_exporter": "python",
   "pygments_lexer": "ipython3",
   "version": "3.9.12"
  }
 },
 "nbformat": 4,
 "nbformat_minor": 2
}
