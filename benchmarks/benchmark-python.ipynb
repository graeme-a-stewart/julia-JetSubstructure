{
 "cells": [
  {
   "cell_type": "code",
   "execution_count": 44,
   "metadata": {},
   "outputs": [],
   "source": [
    "import fastjet as fj\n",
    "import time\n",
    "import pyhepmc"
   ]
  },
  {
   "cell_type": "code",
   "execution_count": 88,
   "metadata": {},
   "outputs": [],
   "source": [
    "def makeJets(data, rad, mtd):\n",
    "    jet_def = fj.JetDefinition(fj.antikt_algorithm, rad, mtd, fj.E_scheme)\n",
    "    jet_cluster = fj.ClusterSequence(data, jet_def)\n",
    "\n",
    "    return jet_cluster\n"
   ]
  },
  {
   "cell_type": "code",
   "execution_count": 90,
   "metadata": {},
   "outputs": [],
   "source": [
    "def read_hepmc_file(FILE):\n",
    "    total = []\n",
    "    with pyhepmc.open(f\"./data/{FILE}\", \"r\") as f:\n",
    "        \n",
    "        for i, event in enumerate(f):\n",
    "            particles = []\n",
    "            for j, particle in enumerate(event.particles):\n",
    "                if particle.status == 1: \n",
    "                # Access particle properties such as momentum, energy, etc.\n",
    "                # print(particle.momentum.px)\n",
    "                    px, py, pz = particle.momentum.px, particle.momentum.py, particle.momentum.pz\n",
    "                    energy = particle.momentum.e\n",
    "\n",
    "                    particles.append(fj.PseudoJet(px, py, pz, energy))\n",
    "            total.append(particles)\n",
    "\n",
    "    return total"
   ]
  },
  {
   "cell_type": "code",
   "execution_count": 91,
   "metadata": {},
   "outputs": [],
   "source": [
    "fileName = [\"events-ee-Z.hepmc3\", \"events-ee-H.hepmc3\", \\\n",
    "                \"events-pp-0.5TeV-5GeV.hepmc3\", \"events-pp-1TeV-5GeV.hepmc3\",\\\n",
    "                \"events-pp-2TeV-5GeV.hepmc3\", \"events-pp-1TeV.hepmc3\", \"events-pp-2TeV.hepmc3\",\\\n",
    "                \"events-pp-5TeV-10GeV.hepmc3\", \"events-pp-8TeV-20GeV.hepmc3\",\\\n",
    "                \"events-pp-13TeV-20GeV.hepmc\", \"events-pp-20TeV-20GeV.hepmc3\", \"events-pp-20TeV-50GeV.hepmc3\",\\\n",
    "                \"events-pp-30TeV-50GeV.hepmc3\"]"
   ]
  },
  {
   "cell_type": "code",
   "execution_count": 93,
   "metadata": {},
   "outputs": [
    {
     "name": "stdout",
     "output_type": "stream",
     "text": [
      "events-ee-Z.hepmc3\t43.05\t16\t66.29317998886108\n",
      "\n",
      "events-ee-H.hepmc3\t64.97\t16\t107.51619935035706\n",
      "\n",
      "events-pp-0.5TeV-5GeV.hepmc3\t112.62\t16\t555.4723739624023\n",
      "\n",
      "events-pp-1TeV-5GeV.hepmc3\t160.36\t16\t1118.127554655075\n",
      "\n",
      "events-pp-2TeV-5GeV.hepmc3\t188.21\t16\t1537.9343926906586\n",
      "\n",
      "events-pp-1TeV.hepmc3\t226.98\t16\t1639.4996643066406\n",
      "\n",
      "events-pp-2TeV.hepmc3\t226.98\t16\t1643.0480778217316\n",
      "\n",
      "events-pp-5TeV-10GeV.hepmc3\t284.15\t16\t2642.2417163848877\n",
      "\n",
      "events-pp-8TeV-20GeV.hepmc3\t354.18\t16\t3621.6507852077484\n",
      "\n",
      "events-pp-13TeV-20GeV.hepmc\t431.18\t16\t5136.139839887619\n",
      "\n",
      "events-pp-20TeV-20GeV.hepmc3\t524.59\t16\t6977.768391370773\n",
      "\n",
      "events-pp-20TeV-50GeV.hepmc3\t553.64\t16\t7087.072134017944\n",
      "\n",
      "events-pp-30TeV-50GeV.hepmc3\t632.29\t16\t8945.840299129486\n",
      "\n"
     ]
    }
   ],
   "source": [
    "trials = 16\n",
    "\n",
    "with open(\"./results/time_python_plain.csv\", \"w\") as FILE:\n",
    "    FILE.write(\"FileName,mean_particles,n_samples,time_per_event\\n\")\n",
    "    for eventFILE in fileName:\n",
    "        allEvents = read_hepmc_file(eventFILE)\n",
    "\n",
    "        avgTime = 0.0\n",
    "        for j in range(trials):\n",
    "            \n",
    "            count = 0\n",
    "            start = time.time()\n",
    "            for i in range(100):\n",
    "                count += len(allEvents[i])\n",
    "                cluster = makeJets(allEvents[i], 0.4, fj.N2Plain)\n",
    "            \n",
    "            end = time.time() - start\n",
    "            avgTime += end\n",
    "\n",
    "            # count += len(particle_data)\n",
    "        avgTime /= trials\n",
    "\n",
    "        print(f\"{eventFILE}\\t{count/100}\\t{trials}\\t{avgTime*10**4}\\n\")\n",
    "        FILE.write(f\"{eventFILE},{count/100},{trials},{avgTime*10**4}\\n\")\n"
   ]
  }
 ],
 "metadata": {
  "kernelspec": {
   "display_name": "base",
   "language": "python",
   "name": "python3"
  },
  "language_info": {
   "codemirror_mode": {
    "name": "ipython",
    "version": 3
   },
   "file_extension": ".py",
   "mimetype": "text/x-python",
   "name": "python",
   "nbconvert_exporter": "python",
   "pygments_lexer": "ipython3",
   "version": "3.9.-1"
  }
 },
 "nbformat": 4,
 "nbformat_minor": 2
}
