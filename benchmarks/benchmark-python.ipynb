{
 "cells": [
  {
   "cell_type": "code",
   "execution_count": null,
   "metadata": {},
   "outputs": [],
   "source": [
    "import fastjet as fj\n",
    "import time\n",
    "import pyhepmc"
   ]
  },
  {
   "cell_type": "code",
   "execution_count": null,
   "metadata": {},
   "outputs": [],
   "source": [
    "def makeJets(data, R):\n",
    "    jet_def = fj.JetDefinition(fj.cambridge_aachen_algorithm, R)\n",
    "    jet_cluster = fj.ClusterSequence(data, jet_def)\n",
    "\n",
    "    return jet_cluster"
   ]
  },
  {
   "cell_type": "code",
   "execution_count": null,
   "metadata": {},
   "outputs": [],
   "source": [
    "def read_hepmc_file(FILE):\n",
    "    total = []\n",
    "    with pyhepmc.open(f\"./data/{FILE}\", \"r\") as f:\n",
    "        \n",
    "        for i, event in enumerate(f):\n",
    "            particles = []\n",
    "            for j, particle in enumerate(event.particles):\n",
    "                if particle.status == 1: \n",
    "                # Access particle properties such as momentum, energy, etc.\n",
    "                # print(particle.momentum.px)\n",
    "                    px, py, pz = particle.momentum.px, particle.momentum.py, particle.momentum.pz\n",
    "                    energy = particle.momentum.e\n",
    "\n",
    "                    particles.append(fj.PseudoJet(px, py, pz, energy))\n",
    "            total.append(particles)\n",
    "\n",
    "    return total"
   ]
  },
  {
   "cell_type": "code",
   "execution_count": null,
   "metadata": {},
   "outputs": [],
   "source": [
    "fileName = [\"events-ee-Z.hepmc3\", \"events-ee-H.hepmc3\", \\\n",
    "                \"events-pp-0.5TeV-5GeV.hepmc3\", \"events-pp-1TeV-5GeV.hepmc3\",\\\n",
    "                \"events-pp-2TeV-5GeV.hepmc3\", \"events-pp-2TeV.hepmc3\",\\\n",
    "                \"events-pp-5TeV-10GeV.hepmc3\", \"events-pp-8TeV-20GeV.hepmc3\",\\\n",
    "                \"events-pp-13TeV-20GeV.hepmc\", \"events-pp-20TeV-20GeV.hepmc3\", \"events-pp-20TeV-50GeV.hepmc3\",\\\n",
    "                \"events-pp-30TeV-50GeV.hepmc3\"]"
   ]
  },
  {
   "cell_type": "code",
   "execution_count": null,
   "metadata": {},
   "outputs": [],
   "source": [
    "trials = 16\n",
    "\n",
    "with open(\"./results/time_python_plain.csv\", \"w\") as FILE:\n",
    "    FILE.write(\"FileName,mean_particles,n_samples,time_per_event\\n\")\n",
    "    for eventFILE in fileName:\n",
    "        allEvents = read_hepmc_file(eventFILE)\n",
    "\n",
    "        avgTime = 0.0\n",
    "        for j in range(trials):\n",
    "            \n",
    "            count = 0\n",
    "            start = time.time()\n",
    "            for i in range(100):\n",
    "                count += len(allEvents[i])\n",
    "                # cluster = makeJets(allEvents[i], 0.4, fj.N2Plain)\n",
    "                cluster = makeJets(allEvents[i], 0.4)\n",
    "            \n",
    "            end = time.time() - start\n",
    "            avgTime += end\n",
    "\n",
    "            # count += len(particle_data)\n",
    "        avgTime /= trials\n",
    "\n",
    "        print(f\"{eventFILE}\\t{count/100}\\t{trials}\\t{avgTime*10**4}\\n\")\n",
    "        FILE.write(f\"{eventFILE},{count/100},{trials},{avgTime*10**4}\\n\")\n"
   ]
  },
  {
   "cell_type": "code",
   "execution_count": null,
   "metadata": {},
   "outputs": [],
   "source": [
    "trials = 64\n",
    "with open(\"./results/time-python-substructure.csv\", \"w\") as FILE:\n",
    "    FILE.write(\"FileName,mean_particles,n_samples,filter_time,trimming_time,massdrop_time\\n\")\n",
    "    total_filter = total_trim = total_softdrop = total_massdrop = 0.0\n",
    "    total_count = 0\n",
    "\n",
    "    for eventFILE in fileName:\n",
    "        allEvents = read_hepmc_file(eventFILE)\n",
    "\n",
    "        avgTime = 0.0\n",
    "        avg_filter_time = 0.0\n",
    "        avg_trimming_time = 0.0\n",
    "        avg_massdrop_time = 0.0\n",
    "\n",
    "        n_events = 100\n",
    "        \n",
    "        for j in range(trials):\n",
    "\n",
    "            count = 0\n",
    "            \n",
    "            for i in range(n_events):\n",
    "                cluster = makeJets(allEvents[i], 1.0)\n",
    "                jets = cluster.inclusive_jets(2.0)\n",
    "                count += len(jets)\n",
    "                # mu = 0.67\n",
    "                # ycut = 0.09\n",
    "                mass_drop_tagger = fj.MassDropTagger(0.67, 0.09)\n",
    "                start = time.time()\n",
    "                final_jets = [mass_drop_tagger(jet) for jet in jets]\n",
    "                end = time.time()\n",
    "                avg_massdrop_time += (end - start) * 10**6\n",
    "\n",
    "                filtering = fj.Filter(fj.JetDefinition(fj.cambridge_algorithm, 0.3), fj.SelectorNHardest(3))\n",
    "                start = time.time()\n",
    "                final_jets = [filtering(jet) for jet in jets]\n",
    "                end = time.time()\n",
    "                avg_filter_time += (end - start) * 10**6\n",
    "\n",
    "                trimming = fj.Filter(fj.JetDefinition(fj.cambridge_algorithm, 0.3), fj.SelectorPtFractionMin(0.3))\n",
    "                start = time.time()\n",
    "                final_jets = [trimming(jet) for jet in jets]\n",
    "                end = time.time()\n",
    "                avg_trimming_time += (end - start) * 10**6\n",
    "\n",
    "                # JH_tagger = fj.JHTopTagger(0.1, 0.19, 0.7, 80.4)\n",
    "                # start = time.time()\n",
    "                # final_jets = [JH_tagger(jet) for jet in jets]                \n",
    "                # end = time.time() - start\n",
    "\n",
    "        total_filter += avg_filter_time\n",
    "        total_massdrop += avg_massdrop_time\n",
    "        total_trim += avg_trimming_time\n",
    "        total_count += count\n",
    "\n",
    "        avg_massdrop_time /= (trials * count)\n",
    "        avg_filter_time /= (trials * count)\n",
    "        avg_trimming_time /= (trials * count)\n",
    "\n",
    "        print(f\"{eventFILE}\\t{count/100}\\t{trials}\\t{avg_filter_time}\\t{avg_trimming_time}\\t{avg_massdrop_time}\\n\")\n",
    "        FILE.write(f\"{eventFILE},{count/100},{trials},{avg_filter_time},{avg_trimming_time},{avg_massdrop_time}\\n\")"
   ]
  },
  {
   "cell_type": "code",
   "execution_count": null,
   "metadata": {},
   "outputs": [],
   "source": [
    "print(f\"{total_count}\")\n",
    "print(f\"Filter: {total_filter/(total_count*trials)}\")\n",
    "print(f\"Trim: {total_trim/(total_count*trials)}\")\n",
    "print(f\"Massdrop: {total_massdrop/(total_count*trials)}\")"
   ]
  },
  {
   "cell_type": "code",
   "execution_count": null,
   "metadata": {},
   "outputs": [],
   "source": []
  }
 ],
 "metadata": {
  "kernelspec": {
   "display_name": "fastjet",
   "language": "python",
   "name": "python3"
  },
  "language_info": {
   "codemirror_mode": {
    "name": "ipython",
    "version": 3
   },
   "file_extension": ".py",
   "mimetype": "text/x-python",
   "name": "python",
   "nbconvert_exporter": "python",
   "pygments_lexer": "ipython3",
   "version": "3.12.9"
  }
 },
 "nbformat": 4,
 "nbformat_minor": 2
}
